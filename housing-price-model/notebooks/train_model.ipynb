{
 "cells": [
  {
   "cell_type": "markdown",
   "id": "0d68e85c-aac4-4ce9-b5f0-be15e8449226",
   "metadata": {},
   "source": [
    "# 🏠House Price Prediction with Scikit Learn Random Forrest\n",
    "\n",
    "This notebook serves as an example of how to train a regression model using scikit learn. The data for this notebook is from the [House Prices: Advanced Regression Techniques](https://www.kaggle.com/competitions/house-prices-advanced-regression-techniques) Kaggle competition. Model training code is loosley based on [this submission](https://www.kaggle.com/code/jayakishan225/predicting-house-prices-with-ml) by Jayakishan Minnekanti.\n",
    "\n",
    "## 🎯Objective\n",
    "\n",
    "The object of this competition is to predict the price a home will sell for given 79 different features describing many different aspects of the home.\n",
    "\n",
    "## ⚙️Setup\n",
    "\n",
    "In order to use this notebook you will need to download the `train.csv` and `test.csv` files from Kaggle and place them in the `data` directory located at `../data`"
   ]
  },
  {
   "cell_type": "markdown",
   "id": "ca13ea79-3c66-4fd6-90e2-0a860ce81f12",
   "metadata": {},
   "source": [
    "## 📦 1. Import Libraries\n",
    "\n",
    "It's best practice to import all of your libraries at the top of your notebook just like a regular Python script rather than throughout the notebook itself. This way you can quickly tell at a glace the dependencies of the notebook, it will also be easier to convert the notebook to a script in the future if needed. 😉\n",
    "\n",
    "The libraries we will be using are:\n",
    "\n",
    "* **Pandas & Numpy** - The typical Python scientific stack\n",
    "* **Scikit-learn** - For data preprocessing and modeling\n",
    "* **Plotly** - For data visualization\n",
    "* **MLFlow** - For model experiment tracking and distribution\n",
    "* **JSON** - For output data wrangling"
   ]
  },
  {
   "cell_type": "code",
   "execution_count": 1,
   "id": "189a2205-1298-47fd-8281-d8afe76ec77b",
   "metadata": {},
   "outputs": [],
   "source": [
    "import pandas as pd\n",
    "import numpy as np\n",
    "\n",
    "from sklearn.model_selection import train_test_split\n",
    "from sklearn.metrics import mean_squared_error, mean_absolute_error\n",
    "from sklearn.ensemble import RandomForestRegressor\n",
    "from sklearn.pipeline import Pipeline\n",
    "from sklearn.impute import SimpleImputer\n",
    "from sklearn.compose import ColumnTransformer\n",
    "from sklearn.preprocessing import OneHotEncoder\n",
    "\n",
    "import plotly.express as px\n",
    "\n",
    "import mlflow\n",
    "from mlflow.models import infer_signature\n",
    "\n",
    "import json"
   ]
  },
  {
   "cell_type": "markdown",
   "id": "5f1b3444-2a2c-482e-9cac-0368b805f295",
   "metadata": {},
   "source": [
    "## 📂 2. Load Dataset & Visulaize our Target Variable\n",
    "\n",
    "We load our dataset using Pandas and visualize our target variable using [Plotly Express](https://plotly.com/python/plotly-express/) for ease of use. Notice our target has a noticeable right-skew"
   ]
  },
  {
   "cell_type": "code",
   "execution_count": 2,
   "id": "62bf3626-ac0f-42af-a9ab-cec981bdb32e",
   "metadata": {},
   "outputs": [
    {
     "name": "stdout",
     "output_type": "stream",
     "text": [
      "Train Shape: (1460, 81)\n",
      "Test Shape: (1459, 80)\n"
     ]
    },
    {
     "data": {
      "text/html": [
       "<div>\n",
       "<style scoped>\n",
       "    .dataframe tbody tr th:only-of-type {\n",
       "        vertical-align: middle;\n",
       "    }\n",
       "\n",
       "    .dataframe tbody tr th {\n",
       "        vertical-align: top;\n",
       "    }\n",
       "\n",
       "    .dataframe thead th {\n",
       "        text-align: right;\n",
       "    }\n",
       "</style>\n",
       "<table border=\"1\" class=\"dataframe\">\n",
       "  <thead>\n",
       "    <tr style=\"text-align: right;\">\n",
       "      <th></th>\n",
       "      <th>Id</th>\n",
       "      <th>MSSubClass</th>\n",
       "      <th>MSZoning</th>\n",
       "      <th>LotFrontage</th>\n",
       "      <th>LotArea</th>\n",
       "      <th>Street</th>\n",
       "      <th>Alley</th>\n",
       "      <th>LotShape</th>\n",
       "      <th>LandContour</th>\n",
       "      <th>Utilities</th>\n",
       "      <th>...</th>\n",
       "      <th>PoolArea</th>\n",
       "      <th>PoolQC</th>\n",
       "      <th>Fence</th>\n",
       "      <th>MiscFeature</th>\n",
       "      <th>MiscVal</th>\n",
       "      <th>MoSold</th>\n",
       "      <th>YrSold</th>\n",
       "      <th>SaleType</th>\n",
       "      <th>SaleCondition</th>\n",
       "      <th>SalePrice</th>\n",
       "    </tr>\n",
       "  </thead>\n",
       "  <tbody>\n",
       "    <tr>\n",
       "      <th>0</th>\n",
       "      <td>1</td>\n",
       "      <td>60</td>\n",
       "      <td>RL</td>\n",
       "      <td>65.0</td>\n",
       "      <td>8450</td>\n",
       "      <td>Pave</td>\n",
       "      <td>NaN</td>\n",
       "      <td>Reg</td>\n",
       "      <td>Lvl</td>\n",
       "      <td>AllPub</td>\n",
       "      <td>...</td>\n",
       "      <td>0</td>\n",
       "      <td>NaN</td>\n",
       "      <td>NaN</td>\n",
       "      <td>NaN</td>\n",
       "      <td>0</td>\n",
       "      <td>2</td>\n",
       "      <td>2008</td>\n",
       "      <td>WD</td>\n",
       "      <td>Normal</td>\n",
       "      <td>208500</td>\n",
       "    </tr>\n",
       "    <tr>\n",
       "      <th>1</th>\n",
       "      <td>2</td>\n",
       "      <td>20</td>\n",
       "      <td>RL</td>\n",
       "      <td>80.0</td>\n",
       "      <td>9600</td>\n",
       "      <td>Pave</td>\n",
       "      <td>NaN</td>\n",
       "      <td>Reg</td>\n",
       "      <td>Lvl</td>\n",
       "      <td>AllPub</td>\n",
       "      <td>...</td>\n",
       "      <td>0</td>\n",
       "      <td>NaN</td>\n",
       "      <td>NaN</td>\n",
       "      <td>NaN</td>\n",
       "      <td>0</td>\n",
       "      <td>5</td>\n",
       "      <td>2007</td>\n",
       "      <td>WD</td>\n",
       "      <td>Normal</td>\n",
       "      <td>181500</td>\n",
       "    </tr>\n",
       "    <tr>\n",
       "      <th>2</th>\n",
       "      <td>3</td>\n",
       "      <td>60</td>\n",
       "      <td>RL</td>\n",
       "      <td>68.0</td>\n",
       "      <td>11250</td>\n",
       "      <td>Pave</td>\n",
       "      <td>NaN</td>\n",
       "      <td>IR1</td>\n",
       "      <td>Lvl</td>\n",
       "      <td>AllPub</td>\n",
       "      <td>...</td>\n",
       "      <td>0</td>\n",
       "      <td>NaN</td>\n",
       "      <td>NaN</td>\n",
       "      <td>NaN</td>\n",
       "      <td>0</td>\n",
       "      <td>9</td>\n",
       "      <td>2008</td>\n",
       "      <td>WD</td>\n",
       "      <td>Normal</td>\n",
       "      <td>223500</td>\n",
       "    </tr>\n",
       "    <tr>\n",
       "      <th>3</th>\n",
       "      <td>4</td>\n",
       "      <td>70</td>\n",
       "      <td>RL</td>\n",
       "      <td>60.0</td>\n",
       "      <td>9550</td>\n",
       "      <td>Pave</td>\n",
       "      <td>NaN</td>\n",
       "      <td>IR1</td>\n",
       "      <td>Lvl</td>\n",
       "      <td>AllPub</td>\n",
       "      <td>...</td>\n",
       "      <td>0</td>\n",
       "      <td>NaN</td>\n",
       "      <td>NaN</td>\n",
       "      <td>NaN</td>\n",
       "      <td>0</td>\n",
       "      <td>2</td>\n",
       "      <td>2006</td>\n",
       "      <td>WD</td>\n",
       "      <td>Abnorml</td>\n",
       "      <td>140000</td>\n",
       "    </tr>\n",
       "    <tr>\n",
       "      <th>4</th>\n",
       "      <td>5</td>\n",
       "      <td>60</td>\n",
       "      <td>RL</td>\n",
       "      <td>84.0</td>\n",
       "      <td>14260</td>\n",
       "      <td>Pave</td>\n",
       "      <td>NaN</td>\n",
       "      <td>IR1</td>\n",
       "      <td>Lvl</td>\n",
       "      <td>AllPub</td>\n",
       "      <td>...</td>\n",
       "      <td>0</td>\n",
       "      <td>NaN</td>\n",
       "      <td>NaN</td>\n",
       "      <td>NaN</td>\n",
       "      <td>0</td>\n",
       "      <td>12</td>\n",
       "      <td>2008</td>\n",
       "      <td>WD</td>\n",
       "      <td>Normal</td>\n",
       "      <td>250000</td>\n",
       "    </tr>\n",
       "  </tbody>\n",
       "</table>\n",
       "<p>5 rows × 81 columns</p>\n",
       "</div>"
      ],
      "text/plain": [
       "   Id  MSSubClass MSZoning  LotFrontage  LotArea Street Alley LotShape  \\\n",
       "0   1          60       RL         65.0     8450   Pave   NaN      Reg   \n",
       "1   2          20       RL         80.0     9600   Pave   NaN      Reg   \n",
       "2   3          60       RL         68.0    11250   Pave   NaN      IR1   \n",
       "3   4          70       RL         60.0     9550   Pave   NaN      IR1   \n",
       "4   5          60       RL         84.0    14260   Pave   NaN      IR1   \n",
       "\n",
       "  LandContour Utilities  ... PoolArea PoolQC Fence MiscFeature MiscVal MoSold  \\\n",
       "0         Lvl    AllPub  ...        0    NaN   NaN         NaN       0      2   \n",
       "1         Lvl    AllPub  ...        0    NaN   NaN         NaN       0      5   \n",
       "2         Lvl    AllPub  ...        0    NaN   NaN         NaN       0      9   \n",
       "3         Lvl    AllPub  ...        0    NaN   NaN         NaN       0      2   \n",
       "4         Lvl    AllPub  ...        0    NaN   NaN         NaN       0     12   \n",
       "\n",
       "  YrSold  SaleType  SaleCondition  SalePrice  \n",
       "0   2008        WD         Normal     208500  \n",
       "1   2007        WD         Normal     181500  \n",
       "2   2008        WD         Normal     223500  \n",
       "3   2006        WD        Abnorml     140000  \n",
       "4   2008        WD         Normal     250000  \n",
       "\n",
       "[5 rows x 81 columns]"
      ]
     },
     "execution_count": 2,
     "metadata": {},
     "output_type": "execute_result"
    }
   ],
   "source": [
    "# Load Dataset\n",
    "\n",
    "# Load training and test datasets\n",
    "train = pd.read_csv('../data/train.csv')\n",
    "test = pd.read_csv('../data/test.csv')\n",
    "\n",
    "# Display shapes\n",
    "print(f\"Train Shape: {train.shape}\")\n",
    "print(f\"Test Shape: {test.shape}\")\n",
    "\n",
    "# Preview the data\n",
    "train.head()"
   ]
  },
  {
   "cell_type": "code",
   "execution_count": 3,
   "id": "bc73356b-aa70-407f-bac2-a0c0c2718dc4",
   "metadata": {},
   "outputs": [
    {
     "data": {
      "application/vnd.plotly.v1+json": {
       "config": {
        "plotlyServerURL": "https://plot.ly"
       },
       "data": [
        {
         "bingroup": "x",
         "hovertemplate": "Sale Price=%{x}<br>count=%{y}<extra></extra>",
         "legendgroup": "",
         "marker": {
          "color": "#636efa",
          "pattern": {
           "shape": ""
          }
         },
         "name": "",
         "orientation": "v",
         "showlegend": false,
         "type": "histogram",
         "x": {
          "bdata": "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",
          "dtype": "i4"
         },
         "xaxis": "x",
         "yaxis": "y"
        },
        {
         "hovertemplate": "Sale Price=%{x}<extra></extra>",
         "legendgroup": "",
         "marker": {
          "color": "#636efa"
         },
         "name": "",
         "notched": true,
         "showlegend": false,
         "type": "box",
         "x": {
          "bdata": "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",
          "dtype": "i4"
         },
         "xaxis": "x2",
         "yaxis": "y2"
        }
       ],
       "layout": {
        "barmode": "relative",
        "legend": {
         "tracegroupgap": 0
        },
        "template": {
         "data": {
          "bar": [
           {
            "error_x": {
             "color": "#2a3f5f"
            },
            "error_y": {
             "color": "#2a3f5f"
            },
            "marker": {
             "line": {
              "color": "#E5ECF6",
              "width": 0.5
             },
             "pattern": {
              "fillmode": "overlay",
              "size": 10,
              "solidity": 0.2
             }
            },
            "type": "bar"
           }
          ],
          "barpolar": [
           {
            "marker": {
             "line": {
              "color": "#E5ECF6",
              "width": 0.5
             },
             "pattern": {
              "fillmode": "overlay",
              "size": 10,
              "solidity": 0.2
             }
            },
            "type": "barpolar"
           }
          ],
          "carpet": [
           {
            "aaxis": {
             "endlinecolor": "#2a3f5f",
             "gridcolor": "white",
             "linecolor": "white",
             "minorgridcolor": "white",
             "startlinecolor": "#2a3f5f"
            },
            "baxis": {
             "endlinecolor": "#2a3f5f",
             "gridcolor": "white",
             "linecolor": "white",
             "minorgridcolor": "white",
             "startlinecolor": "#2a3f5f"
            },
            "type": "carpet"
           }
          ],
          "choropleth": [
           {
            "colorbar": {
             "outlinewidth": 0,
             "ticks": ""
            },
            "type": "choropleth"
           }
          ],
          "contour": [
           {
            "colorbar": {
             "outlinewidth": 0,
             "ticks": ""
            },
            "colorscale": [
             [
              0,
              "#0d0887"
             ],
             [
              0.1111111111111111,
              "#46039f"
             ],
             [
              0.2222222222222222,
              "#7201a8"
             ],
             [
              0.3333333333333333,
              "#9c179e"
             ],
             [
              0.4444444444444444,
              "#bd3786"
             ],
             [
              0.5555555555555556,
              "#d8576b"
             ],
             [
              0.6666666666666666,
              "#ed7953"
             ],
             [
              0.7777777777777778,
              "#fb9f3a"
             ],
             [
              0.8888888888888888,
              "#fdca26"
             ],
             [
              1,
              "#f0f921"
             ]
            ],
            "type": "contour"
           }
          ],
          "contourcarpet": [
           {
            "colorbar": {
             "outlinewidth": 0,
             "ticks": ""
            },
            "type": "contourcarpet"
           }
          ],
          "heatmap": [
           {
            "colorbar": {
             "outlinewidth": 0,
             "ticks": ""
            },
            "colorscale": [
             [
              0,
              "#0d0887"
             ],
             [
              0.1111111111111111,
              "#46039f"
             ],
             [
              0.2222222222222222,
              "#7201a8"
             ],
             [
              0.3333333333333333,
              "#9c179e"
             ],
             [
              0.4444444444444444,
              "#bd3786"
             ],
             [
              0.5555555555555556,
              "#d8576b"
             ],
             [
              0.6666666666666666,
              "#ed7953"
             ],
             [
              0.7777777777777778,
              "#fb9f3a"
             ],
             [
              0.8888888888888888,
              "#fdca26"
             ],
             [
              1,
              "#f0f921"
             ]
            ],
            "type": "heatmap"
           }
          ],
          "histogram": [
           {
            "marker": {
             "pattern": {
              "fillmode": "overlay",
              "size": 10,
              "solidity": 0.2
             }
            },
            "type": "histogram"
           }
          ],
          "histogram2d": [
           {
            "colorbar": {
             "outlinewidth": 0,
             "ticks": ""
            },
            "colorscale": [
             [
              0,
              "#0d0887"
             ],
             [
              0.1111111111111111,
              "#46039f"
             ],
             [
              0.2222222222222222,
              "#7201a8"
             ],
             [
              0.3333333333333333,
              "#9c179e"
             ],
             [
              0.4444444444444444,
              "#bd3786"
             ],
             [
              0.5555555555555556,
              "#d8576b"
             ],
             [
              0.6666666666666666,
              "#ed7953"
             ],
             [
              0.7777777777777778,
              "#fb9f3a"
             ],
             [
              0.8888888888888888,
              "#fdca26"
             ],
             [
              1,
              "#f0f921"
             ]
            ],
            "type": "histogram2d"
           }
          ],
          "histogram2dcontour": [
           {
            "colorbar": {
             "outlinewidth": 0,
             "ticks": ""
            },
            "colorscale": [
             [
              0,
              "#0d0887"
             ],
             [
              0.1111111111111111,
              "#46039f"
             ],
             [
              0.2222222222222222,
              "#7201a8"
             ],
             [
              0.3333333333333333,
              "#9c179e"
             ],
             [
              0.4444444444444444,
              "#bd3786"
             ],
             [
              0.5555555555555556,
              "#d8576b"
             ],
             [
              0.6666666666666666,
              "#ed7953"
             ],
             [
              0.7777777777777778,
              "#fb9f3a"
             ],
             [
              0.8888888888888888,
              "#fdca26"
             ],
             [
              1,
              "#f0f921"
             ]
            ],
            "type": "histogram2dcontour"
           }
          ],
          "mesh3d": [
           {
            "colorbar": {
             "outlinewidth": 0,
             "ticks": ""
            },
            "type": "mesh3d"
           }
          ],
          "parcoords": [
           {
            "line": {
             "colorbar": {
              "outlinewidth": 0,
              "ticks": ""
             }
            },
            "type": "parcoords"
           }
          ],
          "pie": [
           {
            "automargin": true,
            "type": "pie"
           }
          ],
          "scatter": [
           {
            "fillpattern": {
             "fillmode": "overlay",
             "size": 10,
             "solidity": 0.2
            },
            "type": "scatter"
           }
          ],
          "scatter3d": [
           {
            "line": {
             "colorbar": {
              "outlinewidth": 0,
              "ticks": ""
             }
            },
            "marker": {
             "colorbar": {
              "outlinewidth": 0,
              "ticks": ""
             }
            },
            "type": "scatter3d"
           }
          ],
          "scattercarpet": [
           {
            "marker": {
             "colorbar": {
              "outlinewidth": 0,
              "ticks": ""
             }
            },
            "type": "scattercarpet"
           }
          ],
          "scattergeo": [
           {
            "marker": {
             "colorbar": {
              "outlinewidth": 0,
              "ticks": ""
             }
            },
            "type": "scattergeo"
           }
          ],
          "scattergl": [
           {
            "marker": {
             "colorbar": {
              "outlinewidth": 0,
              "ticks": ""
             }
            },
            "type": "scattergl"
           }
          ],
          "scattermap": [
           {
            "marker": {
             "colorbar": {
              "outlinewidth": 0,
              "ticks": ""
             }
            },
            "type": "scattermap"
           }
          ],
          "scattermapbox": [
           {
            "marker": {
             "colorbar": {
              "outlinewidth": 0,
              "ticks": ""
             }
            },
            "type": "scattermapbox"
           }
          ],
          "scatterpolar": [
           {
            "marker": {
             "colorbar": {
              "outlinewidth": 0,
              "ticks": ""
             }
            },
            "type": "scatterpolar"
           }
          ],
          "scatterpolargl": [
           {
            "marker": {
             "colorbar": {
              "outlinewidth": 0,
              "ticks": ""
             }
            },
            "type": "scatterpolargl"
           }
          ],
          "scatterternary": [
           {
            "marker": {
             "colorbar": {
              "outlinewidth": 0,
              "ticks": ""
             }
            },
            "type": "scatterternary"
           }
          ],
          "surface": [
           {
            "colorbar": {
             "outlinewidth": 0,
             "ticks": ""
            },
            "colorscale": [
             [
              0,
              "#0d0887"
             ],
             [
              0.1111111111111111,
              "#46039f"
             ],
             [
              0.2222222222222222,
              "#7201a8"
             ],
             [
              0.3333333333333333,
              "#9c179e"
             ],
             [
              0.4444444444444444,
              "#bd3786"
             ],
             [
              0.5555555555555556,
              "#d8576b"
             ],
             [
              0.6666666666666666,
              "#ed7953"
             ],
             [
              0.7777777777777778,
              "#fb9f3a"
             ],
             [
              0.8888888888888888,
              "#fdca26"
             ],
             [
              1,
              "#f0f921"
             ]
            ],
            "type": "surface"
           }
          ],
          "table": [
           {
            "cells": {
             "fill": {
              "color": "#EBF0F8"
             },
             "line": {
              "color": "white"
             }
            },
            "header": {
             "fill": {
              "color": "#C8D4E3"
             },
             "line": {
              "color": "white"
             }
            },
            "type": "table"
           }
          ]
         },
         "layout": {
          "annotationdefaults": {
           "arrowcolor": "#2a3f5f",
           "arrowhead": 0,
           "arrowwidth": 1
          },
          "autotypenumbers": "strict",
          "coloraxis": {
           "colorbar": {
            "outlinewidth": 0,
            "ticks": ""
           }
          },
          "colorscale": {
           "diverging": [
            [
             0,
             "#8e0152"
            ],
            [
             0.1,
             "#c51b7d"
            ],
            [
             0.2,
             "#de77ae"
            ],
            [
             0.3,
             "#f1b6da"
            ],
            [
             0.4,
             "#fde0ef"
            ],
            [
             0.5,
             "#f7f7f7"
            ],
            [
             0.6,
             "#e6f5d0"
            ],
            [
             0.7,
             "#b8e186"
            ],
            [
             0.8,
             "#7fbc41"
            ],
            [
             0.9,
             "#4d9221"
            ],
            [
             1,
             "#276419"
            ]
           ],
           "sequential": [
            [
             0,
             "#0d0887"
            ],
            [
             0.1111111111111111,
             "#46039f"
            ],
            [
             0.2222222222222222,
             "#7201a8"
            ],
            [
             0.3333333333333333,
             "#9c179e"
            ],
            [
             0.4444444444444444,
             "#bd3786"
            ],
            [
             0.5555555555555556,
             "#d8576b"
            ],
            [
             0.6666666666666666,
             "#ed7953"
            ],
            [
             0.7777777777777778,
             "#fb9f3a"
            ],
            [
             0.8888888888888888,
             "#fdca26"
            ],
            [
             1,
             "#f0f921"
            ]
           ],
           "sequentialminus": [
            [
             0,
             "#0d0887"
            ],
            [
             0.1111111111111111,
             "#46039f"
            ],
            [
             0.2222222222222222,
             "#7201a8"
            ],
            [
             0.3333333333333333,
             "#9c179e"
            ],
            [
             0.4444444444444444,
             "#bd3786"
            ],
            [
             0.5555555555555556,
             "#d8576b"
            ],
            [
             0.6666666666666666,
             "#ed7953"
            ],
            [
             0.7777777777777778,
             "#fb9f3a"
            ],
            [
             0.8888888888888888,
             "#fdca26"
            ],
            [
             1,
             "#f0f921"
            ]
           ]
          },
          "colorway": [
           "#636efa",
           "#EF553B",
           "#00cc96",
           "#ab63fa",
           "#FFA15A",
           "#19d3f3",
           "#FF6692",
           "#B6E880",
           "#FF97FF",
           "#FECB52"
          ],
          "font": {
           "color": "#2a3f5f"
          },
          "geo": {
           "bgcolor": "white",
           "lakecolor": "white",
           "landcolor": "#E5ECF6",
           "showlakes": true,
           "showland": true,
           "subunitcolor": "white"
          },
          "hoverlabel": {
           "align": "left"
          },
          "hovermode": "closest",
          "mapbox": {
           "style": "light"
          },
          "paper_bgcolor": "white",
          "plot_bgcolor": "#E5ECF6",
          "polar": {
           "angularaxis": {
            "gridcolor": "white",
            "linecolor": "white",
            "ticks": ""
           },
           "bgcolor": "#E5ECF6",
           "radialaxis": {
            "gridcolor": "white",
            "linecolor": "white",
            "ticks": ""
           }
          },
          "scene": {
           "xaxis": {
            "backgroundcolor": "#E5ECF6",
            "gridcolor": "white",
            "gridwidth": 2,
            "linecolor": "white",
            "showbackground": true,
            "ticks": "",
            "zerolinecolor": "white"
           },
           "yaxis": {
            "backgroundcolor": "#E5ECF6",
            "gridcolor": "white",
            "gridwidth": 2,
            "linecolor": "white",
            "showbackground": true,
            "ticks": "",
            "zerolinecolor": "white"
           },
           "zaxis": {
            "backgroundcolor": "#E5ECF6",
            "gridcolor": "white",
            "gridwidth": 2,
            "linecolor": "white",
            "showbackground": true,
            "ticks": "",
            "zerolinecolor": "white"
           }
          },
          "shapedefaults": {
           "line": {
            "color": "#2a3f5f"
           }
          },
          "ternary": {
           "aaxis": {
            "gridcolor": "white",
            "linecolor": "white",
            "ticks": ""
           },
           "baxis": {
            "gridcolor": "white",
            "linecolor": "white",
            "ticks": ""
           },
           "bgcolor": "#E5ECF6",
           "caxis": {
            "gridcolor": "white",
            "linecolor": "white",
            "ticks": ""
           }
          },
          "title": {
           "x": 0.05
          },
          "xaxis": {
           "automargin": true,
           "gridcolor": "white",
           "linecolor": "white",
           "ticks": "",
           "title": {
            "standoff": 15
           },
           "zerolinecolor": "white",
           "zerolinewidth": 2
          },
          "yaxis": {
           "automargin": true,
           "gridcolor": "white",
           "linecolor": "white",
           "ticks": "",
           "title": {
            "standoff": 15
           },
           "zerolinecolor": "white",
           "zerolinewidth": 2
          }
         }
        },
        "title": {
         "text": "Distribution of House Sale Price"
        },
        "xaxis": {
         "anchor": "y",
         "domain": [
          0,
          1
         ],
         "title": {
          "text": "Sale Price"
         }
        },
        "xaxis2": {
         "anchor": "y2",
         "domain": [
          0,
          1
         ],
         "matches": "x",
         "showgrid": true,
         "showticklabels": false
        },
        "yaxis": {
         "anchor": "x",
         "domain": [
          0,
          0.8316
         ],
         "title": {
          "text": "count"
         }
        },
        "yaxis2": {
         "anchor": "x2",
         "domain": [
          0.8416,
          1
         ],
         "matches": "y2",
         "showgrid": false,
         "showline": false,
         "showticklabels": false,
         "ticks": ""
        }
       }
      },
      "image/png": "[encoded data removed]"
     },
     "metadata": {},
     "output_type": "display_data"
    }
   ],
   "source": [
    "# Create a histogram chart using Plotly\n",
    "fig = px.histogram(\n",
    "    train, \n",
    "    x='SalePrice',\n",
    "    labels= {'SalePrice': 'Sale Price'},\n",
    "    title='Distribution of House Sale Price',\n",
    "    marginal='box'\n",
    ")\n",
    "fig.show()"
   ]
  },
  {
   "cell_type": "markdown",
   "id": "2a25ec98-12f1-4a1d-9630-0fbd71c6f381",
   "metadata": {},
   "source": [
    "## ❌ 3. Visualize Null Values and Remove High Percentage Null Columns\n",
    "\n",
    "Next, it's always good to check if we have any column has a high percentage of null values and remove them as they won't provide much information to the model. Here we remove a column if it is more than 30% null."
   ]
  },
  {
   "cell_type": "code",
   "execution_count": 4,
   "id": "d2ba35ab-ab92-4924-8179-c1b648dc69c7",
   "metadata": {},
   "outputs": [
    {
     "data": {
      "application/vnd.plotly.v1+json": {
       "config": {
        "plotlyServerURL": "https://plot.ly"
       },
       "data": [
        {
         "hovertemplate": "Column=%{x}<br>Percent Null (%)=%{text}<extra></extra>",
         "legendgroup": "",
         "marker": {
          "color": "#636efa",
          "pattern": {
           "shape": ""
          }
         },
         "name": "",
         "orientation": "v",
         "showlegend": false,
         "text": {
          "bdata": "jH1hKbnY7z8Q7aYaAtHuPxZg8xlnAe4/dR1uD1LX6T/MMf2TwRzjP/Ljx48fP94/T2ujE/S0xj99xlmAzWesP33GWYDNZ6w/fcZZgM1nrD99xlmAzWesP33GWYDNZ6w/b6ohEO2mmj9vqiEQ7aaaPzafcRZg85k/Np9xFmDzmT82n3EWYPOZPxpnATafcXY/GmcBNp9xRj8=",
          "dtype": "f8"
         },
         "textposition": "auto",
         "type": "bar",
         "x": [
          "PoolQC",
          "MiscFeature",
          "Alley",
          "Fence",
          "MasVnrType",
          "FireplaceQu",
          "LotFrontage",
          "GarageType",
          "GarageYrBlt",
          "GarageFinish",
          "GarageQual",
          "GarageCond",
          "BsmtExposure",
          "BsmtFinType2",
          "BsmtQual",
          "BsmtCond",
          "BsmtFinType1",
          "MasVnrArea",
          "Electrical"
         ],
         "xaxis": "x",
         "y": {
          "bdata": "jH1hKbnY7z8Q7aYaAtHuPxZg8xlnAe4/dR1uD1LX6T/MMf2TwRzjP/Ljx48fP94/T2ujE/S0xj99xlmAzWesP33GWYDNZ6w/fcZZgM1nrD99xlmAzWesP33GWYDNZ6w/b6ohEO2mmj9vqiEQ7aaaPzafcRZg85k/Np9xFmDzmT82n3EWYPOZPxpnATafcXY/GmcBNp9xRj8=",
          "dtype": "f8"
         },
         "yaxis": "y"
        }
       ],
       "layout": {
        "barmode": "relative",
        "legend": {
         "tracegroupgap": 0
        },
        "template": {
         "data": {
          "bar": [
           {
            "error_x": {
             "color": "#2a3f5f"
            },
            "error_y": {
             "color": "#2a3f5f"
            },
            "marker": {
             "line": {
              "color": "#E5ECF6",
              "width": 0.5
             },
             "pattern": {
              "fillmode": "overlay",
              "size": 10,
              "solidity": 0.2
             }
            },
            "type": "bar"
           }
          ],
          "barpolar": [
           {
            "marker": {
             "line": {
              "color": "#E5ECF6",
              "width": 0.5
             },
             "pattern": {
              "fillmode": "overlay",
              "size": 10,
              "solidity": 0.2
             }
            },
            "type": "barpolar"
           }
          ],
          "carpet": [
           {
            "aaxis": {
             "endlinecolor": "#2a3f5f",
             "gridcolor": "white",
             "linecolor": "white",
             "minorgridcolor": "white",
             "startlinecolor": "#2a3f5f"
            },
            "baxis": {
             "endlinecolor": "#2a3f5f",
             "gridcolor": "white",
             "linecolor": "white",
             "minorgridcolor": "white",
             "startlinecolor": "#2a3f5f"
            },
            "type": "carpet"
           }
          ],
          "choropleth": [
           {
            "colorbar": {
             "outlinewidth": 0,
             "ticks": ""
            },
            "type": "choropleth"
           }
          ],
          "contour": [
           {
            "colorbar": {
             "outlinewidth": 0,
             "ticks": ""
            },
            "colorscale": [
             [
              0,
              "#0d0887"
             ],
             [
              0.1111111111111111,
              "#46039f"
             ],
             [
              0.2222222222222222,
              "#7201a8"
             ],
             [
              0.3333333333333333,
              "#9c179e"
             ],
             [
              0.4444444444444444,
              "#bd3786"
             ],
             [
              0.5555555555555556,
              "#d8576b"
             ],
             [
              0.6666666666666666,
              "#ed7953"
             ],
             [
              0.7777777777777778,
              "#fb9f3a"
             ],
             [
              0.8888888888888888,
              "#fdca26"
             ],
             [
              1,
              "#f0f921"
             ]
            ],
            "type": "contour"
           }
          ],
          "contourcarpet": [
           {
            "colorbar": {
             "outlinewidth": 0,
             "ticks": ""
            },
            "type": "contourcarpet"
           }
          ],
          "heatmap": [
           {
            "colorbar": {
             "outlinewidth": 0,
             "ticks": ""
            },
            "colorscale": [
             [
              0,
              "#0d0887"
             ],
             [
              0.1111111111111111,
              "#46039f"
             ],
             [
              0.2222222222222222,
              "#7201a8"
             ],
             [
              0.3333333333333333,
              "#9c179e"
             ],
             [
              0.4444444444444444,
              "#bd3786"
             ],
             [
              0.5555555555555556,
              "#d8576b"
             ],
             [
              0.6666666666666666,
              "#ed7953"
             ],
             [
              0.7777777777777778,
              "#fb9f3a"
             ],
             [
              0.8888888888888888,
              "#fdca26"
             ],
             [
              1,
              "#f0f921"
             ]
            ],
            "type": "heatmap"
           }
          ],
          "histogram": [
           {
            "marker": {
             "pattern": {
              "fillmode": "overlay",
              "size": 10,
              "solidity": 0.2
             }
            },
            "type": "histogram"
           }
          ],
          "histogram2d": [
           {
            "colorbar": {
             "outlinewidth": 0,
             "ticks": ""
            },
            "colorscale": [
             [
              0,
              "#0d0887"
             ],
             [
              0.1111111111111111,
              "#46039f"
             ],
             [
              0.2222222222222222,
              "#7201a8"
             ],
             [
              0.3333333333333333,
              "#9c179e"
             ],
             [
              0.4444444444444444,
              "#bd3786"
             ],
             [
              0.5555555555555556,
              "#d8576b"
             ],
             [
              0.6666666666666666,
              "#ed7953"
             ],
             [
              0.7777777777777778,
              "#fb9f3a"
             ],
             [
              0.8888888888888888,
              "#fdca26"
             ],
             [
              1,
              "#f0f921"
             ]
            ],
            "type": "histogram2d"
           }
          ],
          "histogram2dcontour": [
           {
            "colorbar": {
             "outlinewidth": 0,
             "ticks": ""
            },
            "colorscale": [
             [
              0,
              "#0d0887"
             ],
             [
              0.1111111111111111,
              "#46039f"
             ],
             [
              0.2222222222222222,
              "#7201a8"
             ],
             [
              0.3333333333333333,
              "#9c179e"
             ],
             [
              0.4444444444444444,
              "#bd3786"
             ],
             [
              0.5555555555555556,
              "#d8576b"
             ],
             [
              0.6666666666666666,
              "#ed7953"
             ],
             [
              0.7777777777777778,
              "#fb9f3a"
             ],
             [
              0.8888888888888888,
              "#fdca26"
             ],
             [
              1,
              "#f0f921"
             ]
            ],
            "type": "histogram2dcontour"
           }
          ],
          "mesh3d": [
           {
            "colorbar": {
             "outlinewidth": 0,
             "ticks": ""
            },
            "type": "mesh3d"
           }
          ],
          "parcoords": [
           {
            "line": {
             "colorbar": {
              "outlinewidth": 0,
              "ticks": ""
             }
            },
            "type": "parcoords"
           }
          ],
          "pie": [
           {
            "automargin": true,
            "type": "pie"
           }
          ],
          "scatter": [
           {
            "fillpattern": {
             "fillmode": "overlay",
             "size": 10,
             "solidity": 0.2
            },
            "type": "scatter"
           }
          ],
          "scatter3d": [
           {
            "line": {
             "colorbar": {
              "outlinewidth": 0,
              "ticks": ""
             }
            },
            "marker": {
             "colorbar": {
              "outlinewidth": 0,
              "ticks": ""
             }
            },
            "type": "scatter3d"
           }
          ],
          "scattercarpet": [
           {
            "marker": {
             "colorbar": {
              "outlinewidth": 0,
              "ticks": ""
             }
            },
            "type": "scattercarpet"
           }
          ],
          "scattergeo": [
           {
            "marker": {
             "colorbar": {
              "outlinewidth": 0,
              "ticks": ""
             }
            },
            "type": "scattergeo"
           }
          ],
          "scattergl": [
           {
            "marker": {
             "colorbar": {
              "outlinewidth": 0,
              "ticks": ""
             }
            },
            "type": "scattergl"
           }
          ],
          "scattermap": [
           {
            "marker": {
             "colorbar": {
              "outlinewidth": 0,
              "ticks": ""
             }
            },
            "type": "scattermap"
           }
          ],
          "scattermapbox": [
           {
            "marker": {
             "colorbar": {
              "outlinewidth": 0,
              "ticks": ""
             }
            },
            "type": "scattermapbox"
           }
          ],
          "scatterpolar": [
           {
            "marker": {
             "colorbar": {
              "outlinewidth": 0,
              "ticks": ""
             }
            },
            "type": "scatterpolar"
           }
          ],
          "scatterpolargl": [
           {
            "marker": {
             "colorbar": {
              "outlinewidth": 0,
              "ticks": ""
             }
            },
            "type": "scatterpolargl"
           }
          ],
          "scatterternary": [
           {
            "marker": {
             "colorbar": {
              "outlinewidth": 0,
              "ticks": ""
             }
            },
            "type": "scatterternary"
           }
          ],
          "surface": [
           {
            "colorbar": {
             "outlinewidth": 0,
             "ticks": ""
            },
            "colorscale": [
             [
              0,
              "#0d0887"
             ],
             [
              0.1111111111111111,
              "#46039f"
             ],
             [
              0.2222222222222222,
              "#7201a8"
             ],
             [
              0.3333333333333333,
              "#9c179e"
             ],
             [
              0.4444444444444444,
              "#bd3786"
             ],
             [
              0.5555555555555556,
              "#d8576b"
             ],
             [
              0.6666666666666666,
              "#ed7953"
             ],
             [
              0.7777777777777778,
              "#fb9f3a"
             ],
             [
              0.8888888888888888,
              "#fdca26"
             ],
             [
              1,
              "#f0f921"
             ]
            ],
            "type": "surface"
           }
          ],
          "table": [
           {
            "cells": {
             "fill": {
              "color": "#EBF0F8"
             },
             "line": {
              "color": "white"
             }
            },
            "header": {
             "fill": {
              "color": "#C8D4E3"
             },
             "line": {
              "color": "white"
             }
            },
            "type": "table"
           }
          ]
         },
         "layout": {
          "annotationdefaults": {
           "arrowcolor": "#2a3f5f",
           "arrowhead": 0,
           "arrowwidth": 1
          },
          "autotypenumbers": "strict",
          "coloraxis": {
           "colorbar": {
            "outlinewidth": 0,
            "ticks": ""
           }
          },
          "colorscale": {
           "diverging": [
            [
             0,
             "#8e0152"
            ],
            [
             0.1,
             "#c51b7d"
            ],
            [
             0.2,
             "#de77ae"
            ],
            [
             0.3,
             "#f1b6da"
            ],
            [
             0.4,
             "#fde0ef"
            ],
            [
             0.5,
             "#f7f7f7"
            ],
            [
             0.6,
             "#e6f5d0"
            ],
            [
             0.7,
             "#b8e186"
            ],
            [
             0.8,
             "#7fbc41"
            ],
            [
             0.9,
             "#4d9221"
            ],
            [
             1,
             "#276419"
            ]
           ],
           "sequential": [
            [
             0,
             "#0d0887"
            ],
            [
             0.1111111111111111,
             "#46039f"
            ],
            [
             0.2222222222222222,
             "#7201a8"
            ],
            [
             0.3333333333333333,
             "#9c179e"
            ],
            [
             0.4444444444444444,
             "#bd3786"
            ],
            [
             0.5555555555555556,
             "#d8576b"
            ],
            [
             0.6666666666666666,
             "#ed7953"
            ],
            [
             0.7777777777777778,
             "#fb9f3a"
            ],
            [
             0.8888888888888888,
             "#fdca26"
            ],
            [
             1,
             "#f0f921"
            ]
           ],
           "sequentialminus": [
            [
             0,
             "#0d0887"
            ],
            [
             0.1111111111111111,
             "#46039f"
            ],
            [
             0.2222222222222222,
             "#7201a8"
            ],
            [
             0.3333333333333333,
             "#9c179e"
            ],
            [
             0.4444444444444444,
             "#bd3786"
            ],
            [
             0.5555555555555556,
             "#d8576b"
            ],
            [
             0.6666666666666666,
             "#ed7953"
            ],
            [
             0.7777777777777778,
             "#fb9f3a"
            ],
            [
             0.8888888888888888,
             "#fdca26"
            ],
            [
             1,
             "#f0f921"
            ]
           ]
          },
          "colorway": [
           "#636efa",
           "#EF553B",
           "#00cc96",
           "#ab63fa",
           "#FFA15A",
           "#19d3f3",
           "#FF6692",
           "#B6E880",
           "#FF97FF",
           "#FECB52"
          ],
          "font": {
           "color": "#2a3f5f"
          },
          "geo": {
           "bgcolor": "white",
           "lakecolor": "white",
           "landcolor": "#E5ECF6",
           "showlakes": true,
           "showland": true,
           "subunitcolor": "white"
          },
          "hoverlabel": {
           "align": "left"
          },
          "hovermode": "closest",
          "mapbox": {
           "style": "light"
          },
          "paper_bgcolor": "white",
          "plot_bgcolor": "#E5ECF6",
          "polar": {
           "angularaxis": {
            "gridcolor": "white",
            "linecolor": "white",
            "ticks": ""
           },
           "bgcolor": "#E5ECF6",
           "radialaxis": {
            "gridcolor": "white",
            "linecolor": "white",
            "ticks": ""
           }
          },
          "scene": {
           "xaxis": {
            "backgroundcolor": "#E5ECF6",
            "gridcolor": "white",
            "gridwidth": 2,
            "linecolor": "white",
            "showbackground": true,
            "ticks": "",
            "zerolinecolor": "white"
           },
           "yaxis": {
            "backgroundcolor": "#E5ECF6",
            "gridcolor": "white",
            "gridwidth": 2,
            "linecolor": "white",
            "showbackground": true,
            "ticks": "",
            "zerolinecolor": "white"
           },
           "zaxis": {
            "backgroundcolor": "#E5ECF6",
            "gridcolor": "white",
            "gridwidth": 2,
            "linecolor": "white",
            "showbackground": true,
            "ticks": "",
            "zerolinecolor": "white"
           }
          },
          "shapedefaults": {
           "line": {
            "color": "#2a3f5f"
           }
          },
          "ternary": {
           "aaxis": {
            "gridcolor": "white",
            "linecolor": "white",
            "ticks": ""
           },
           "baxis": {
            "gridcolor": "white",
            "linecolor": "white",
            "ticks": ""
           },
           "bgcolor": "#E5ECF6",
           "caxis": {
            "gridcolor": "white",
            "linecolor": "white",
            "ticks": ""
           }
          },
          "title": {
           "x": 0.05
          },
          "xaxis": {
           "automargin": true,
           "gridcolor": "white",
           "linecolor": "white",
           "ticks": "",
           "title": {
            "standoff": 15
           },
           "zerolinecolor": "white",
           "zerolinewidth": 2
          },
          "yaxis": {
           "automargin": true,
           "gridcolor": "white",
           "linecolor": "white",
           "ticks": "",
           "title": {
            "standoff": 15
           },
           "zerolinecolor": "white",
           "zerolinewidth": 2
          }
         }
        },
        "title": {
         "text": "Percentage of Null Values by Column (Columns with 0% Null Omitted)"
        },
        "xaxis": {
         "anchor": "y",
         "domain": [
          0,
          1
         ],
         "title": {
          "text": "Column"
         }
        },
        "yaxis": {
         "anchor": "x",
         "domain": [
          0,
          1
         ],
         "title": {
          "text": "Percent Null (%)"
         }
        }
       }
      },
      "image/png": "[encoded data removed]"
     },
     "metadata": {},
     "output_type": "display_data"
    }
   ],
   "source": [
    "# Calculate percentage of null values for each column\n",
    "null_percentages = train.isnull().mean()\n",
    "null_percentages = null_percentages.reset_index()\n",
    "null_percentages.columns = ['column', 'percent_null']\n",
    "null_percentages = null_percentages[null_percentages.percent_null > 0]\n",
    "null_percentages.sort_values(by='percent_null', inplace=True, ascending=False)\n",
    "\n",
    "# Create a bar chart using Plotly\n",
    "fig = px.bar(\n",
    "    null_percentages,\n",
    "    x='column',\n",
    "    y='percent_null',\n",
    "    title='Percentage of Null Values by Column (Columns with 0% Null Omitted)',\n",
    "    labels={'percent_null': 'Percent Null (%)', 'column': 'Column'},\n",
    "    text='percent_null'\n",
    ")\n",
    "\n",
    "fig.show()"
   ]
  },
  {
   "cell_type": "code",
   "execution_count": 5,
   "id": "9a3e9d41-099e-4062-b5c8-05d3ca9873ed",
   "metadata": {},
   "outputs": [],
   "source": [
    "# Drop columns with more than 30% missing values\n",
    "drop_cols = null_percentages[null_percentages.percent_null > 0.3].column\n",
    "train_df = train.drop(columns=drop_cols)"
   ]
  },
  {
   "cell_type": "markdown",
   "id": "9dd17c30-beb0-48fb-b7d0-f6e6aa01030d",
   "metadata": {},
   "source": [
    "## ✂️4. Create Train-Test Split & Visualize Feature Types\n",
    "\n",
    "With our dataset clean we can now create our Train-Test split. We can also check to see which features are numeric and which are categorical so we know what processing steps we need to complete on each of them."
   ]
  },
  {
   "cell_type": "code",
   "execution_count": 6,
   "id": "1b8f22cf-d6d5-4138-890b-7428e640ca37",
   "metadata": {},
   "outputs": [],
   "source": [
    "# Remove ID column as it won't be used for training\n",
    "train_df.drop(columns=['Id'], axis=1, inplace=True)\n",
    "\n",
    "# Define features and target\n",
    "X = train_df.drop(['SalePrice'], axis=1)\n",
    "y = train_df['SalePrice']"
   ]
  },
  {
   "cell_type": "code",
   "execution_count": 7,
   "id": "e3320c73-4fa7-4ba2-9347-d8a309feb0a5",
   "metadata": {},
   "outputs": [],
   "source": [
    "# Train-Test Split\n",
    "X_train, X_val, y_train, y_val = train_test_split(X, y, test_size=0.2, random_state=42)"
   ]
  },
  {
   "cell_type": "code",
   "execution_count": 8,
   "id": "6073c2a8-7fcd-47c1-8e2a-a3d0734eceb5",
   "metadata": {},
   "outputs": [
    {
     "name": "stdout",
     "output_type": "stream",
     "text": [
      "Numeric columns: Index(['MSSubClass', 'LotFrontage', 'LotArea', 'OverallQual', 'OverallCond',\n",
      "       'YearBuilt', 'YearRemodAdd', 'MasVnrArea', 'BsmtFinSF1', 'BsmtFinSF2',\n",
      "       'BsmtUnfSF', 'TotalBsmtSF', '1stFlrSF', '2ndFlrSF', 'LowQualFinSF',\n",
      "       'GrLivArea', 'BsmtFullBath', 'BsmtHalfBath', 'FullBath', 'HalfBath',\n",
      "       'BedroomAbvGr', 'KitchenAbvGr', 'TotRmsAbvGrd', 'Fireplaces',\n",
      "       'GarageYrBlt', 'GarageCars', 'GarageArea', 'WoodDeckSF', 'OpenPorchSF',\n",
      "       'EnclosedPorch', '3SsnPorch', 'ScreenPorch', 'PoolArea', 'MiscVal',\n",
      "       'MoSold', 'YrSold'],\n",
      "      dtype='object')\n",
      "Categorical columns: Index(['MSZoning', 'Street', 'LotShape', 'LandContour', 'Utilities',\n",
      "       'LotConfig', 'LandSlope', 'Neighborhood', 'Condition1', 'Condition2',\n",
      "       'BldgType', 'HouseStyle', 'RoofStyle', 'RoofMatl', 'Exterior1st',\n",
      "       'Exterior2nd', 'ExterQual', 'ExterCond', 'Foundation', 'BsmtQual',\n",
      "       'BsmtCond', 'BsmtExposure', 'BsmtFinType1', 'BsmtFinType2', 'Heating',\n",
      "       'HeatingQC', 'CentralAir', 'Electrical', 'KitchenQual', 'Functional',\n",
      "       'GarageType', 'GarageFinish', 'GarageQual', 'GarageCond', 'PavedDrive',\n",
      "       'SaleType', 'SaleCondition'],\n",
      "      dtype='object')\n"
     ]
    }
   ],
   "source": [
    "numeric_columns = X_train.select_dtypes(include=['int64', 'float64']).columns\n",
    "categorical_columns = X_train.select_dtypes(include=['object']).columns\n",
    "\n",
    "print(f'Numeric columns: {numeric_columns}')\n",
    "print(f'Categorical columns: {categorical_columns}')"
   ]
  },
  {
   "cell_type": "markdown",
   "id": "f48e680a-7133-4a51-b292-e79cc16846ad",
   "metadata": {},
   "source": [
    "## 🧠 5. Feature Engineering\n",
    "\n",
    "Next we define our transformers for feature engineering. We can break our transfomers into two types:\n",
    "\n",
    "* **Imputation** - For the remaining columns that could be null, we need to equip our model with a way to handle them.\n",
    "    * For our `numeric_columns` we will fill in any missing value with the `median` of that column.\n",
    "    * For our `categorical_columns` we will fill in any missing value with the `most_frequent` value in that column.\n",
    "    * Any remaining columns that are provided to this transformer we will `drop`.\n",
    "    * Finally, by default the `ColumnTransformer` appends the name of the transformation to the outputted column, we can disable this behavior by setting `verbose_feature_names_out` to `False`.\n",
    "* **Encoding** - For our `categorical_columns` we'd also liked to apply [One Hot Encoding](https://www.geeksforgeeks.org/ml-one-hot-encoding/) to them.\n",
    "    * We don't want `sparse_output` as this can cause errors when we train our model so we set it to `False`.\n",
    "    * We also want our model to gracefully handle unknown values of a feature that were not present in our training data without throwing an error so we set `handle_unknown` to `ignore`.\n",
    "    * Since this will be the second transformation we apply to our data and it will be on a subset of the columns we'd like any remaining columns to be `passthrough`.\n",
    "    * Finally, just as before we don't want the name of the transformation appened to the output so we set `verbose_feature_names_out` to `False`."
   ]
  },
  {
   "cell_type": "code",
   "execution_count": 9,
   "id": "df04450a-a5f6-4266-a6f9-fb9f042a812f",
   "metadata": {},
   "outputs": [],
   "source": [
    "impute_transformer = ColumnTransformer(\n",
    "    [\n",
    "        (\n",
    "            'median_imputer', \n",
    "            SimpleImputer(missing_values=np.nan, strategy='median'),\n",
    "            numeric_columns\n",
    "        ),\n",
    "        (\n",
    "            'mode_imputer',\n",
    "            SimpleImputer(missing_values=np.nan, strategy='most_frequent'),\n",
    "            categorical_columns\n",
    "        )\n",
    "    ],\n",
    "    remainder='drop',\n",
    "    verbose_feature_names_out=False\n",
    ")"
   ]
  },
  {
   "cell_type": "code",
   "execution_count": 10,
   "id": "90c6b373-0b64-482f-b5b7-c9b7980c2d8a",
   "metadata": {},
   "outputs": [],
   "source": [
    "encode_transformer = ColumnTransformer(\n",
    "    [\n",
    "        (\n",
    "            'categorical_one_hot', \n",
    "            OneHotEncoder(sparse_output=False, handle_unknown='ignore'),\n",
    "            categorical_columns\n",
    "        )\n",
    "    ],\n",
    "    remainder='passthrough',\n",
    "    verbose_feature_names_out=False\n",
    ")"
   ]
  },
  {
   "cell_type": "markdown",
   "id": "f03a283e-cd9f-4c7e-a592-c198526c1540",
   "metadata": {},
   "source": [
    "## 🏗️ 6. Create Model Pipeline\n",
    "\n",
    "With our feature transformers created we next create a `Pipeline` that contains both our model artifact and the preprocessing steps it needs. \n",
    "\n",
    "* In order to chain multiple `ColumnTransformers` on top of each other we must set the output `transform` to `pandas`\n",
    "\n",
    "\n",
    "📌 **Note:** This style of using a [Pipeline](https://scikit-learn.org/stable/modules/generated/sklearn.pipeline.Pipeline.html) in combination with a [Column Transformer](https://scikit-learn.org/stable/modules/generated/sklearn.compose.ColumnTransformer.html) is rarely shown in examples you will find online (which is a shame!). It is extremly powerful as it allows us to bundle the transformantions a model needs directly with the model itself and treat them as one unit, in a sense the transformations become *part* of the model. This becomes extremly useful when the model is deployed."
   ]
  },
  {
   "cell_type": "code",
   "execution_count": 11,
   "id": "3ee91221-44b6-4dce-8b2e-152c980258cf",
   "metadata": {},
   "outputs": [],
   "source": [
    "model = RandomForestRegressor(n_estimators=100, random_state=42)"
   ]
  },
  {
   "cell_type": "code",
   "execution_count": 12,
   "id": "b8688f3f-1aed-4df0-ab49-f1ac5efa0aec",
   "metadata": {},
   "outputs": [
    {
     "data": {
      "text/html": [
       "<style>#sk-container-id-1 {\n",
       "  /* Definition of color scheme common for light and dark mode */\n",
       "  --sklearn-color-text: #000;\n",
       "  --sklearn-color-text-muted: #666;\n",
       "  --sklearn-color-line: gray;\n",
       "  /* Definition of color scheme for unfitted estimators */\n",
       "  --sklearn-color-unfitted-level-0: #fff5e6;\n",
       "  --sklearn-color-unfitted-level-1: #f6e4d2;\n",
       "  --sklearn-color-unfitted-level-2: #ffe0b3;\n",
       "  --sklearn-color-unfitted-level-3: chocolate;\n",
       "  /* Definition of color scheme for fitted estimators */\n",
       "  --sklearn-color-fitted-level-0: #f0f8ff;\n",
       "  --sklearn-color-fitted-level-1: #d4ebff;\n",
       "  --sklearn-color-fitted-level-2: #b3dbfd;\n",
       "  --sklearn-color-fitted-level-3: cornflowerblue;\n",
       "\n",
       "  /* Specific color for light theme */\n",
       "  --sklearn-color-text-on-default-background: var(--sg-text-color, var(--theme-code-foreground, var(--jp-content-font-color1, black)));\n",
       "  --sklearn-color-background: var(--sg-background-color, var(--theme-background, var(--jp-layout-color0, white)));\n",
       "  --sklearn-color-border-box: var(--sg-text-color, var(--theme-code-foreground, var(--jp-content-font-color1, black)));\n",
       "  --sklearn-color-icon: #696969;\n",
       "\n",
       "  @media (prefers-color-scheme: dark) {\n",
       "    /* Redefinition of color scheme for dark theme */\n",
       "    --sklearn-color-text-on-default-background: var(--sg-text-color, var(--theme-code-foreground, var(--jp-content-font-color1, white)));\n",
       "    --sklearn-color-background: var(--sg-background-color, var(--theme-background, var(--jp-layout-color0, #111)));\n",
       "    --sklearn-color-border-box: var(--sg-text-color, var(--theme-code-foreground, var(--jp-content-font-color1, white)));\n",
       "    --sklearn-color-icon: #878787;\n",
       "  }\n",
       "}\n",
       "\n",
       "#sk-container-id-1 {\n",
       "  color: var(--sklearn-color-text);\n",
       "}\n",
       "\n",
       "#sk-container-id-1 pre {\n",
       "  padding: 0;\n",
       "}\n",
       "\n",
       "#sk-container-id-1 input.sk-hidden--visually {\n",
       "  border: 0;\n",
       "  clip: rect(1px 1px 1px 1px);\n",
       "  clip: rect(1px, 1px, 1px, 1px);\n",
       "  height: 1px;\n",
       "  margin: -1px;\n",
       "  overflow: hidden;\n",
       "  padding: 0;\n",
       "  position: absolute;\n",
       "  width: 1px;\n",
       "}\n",
       "\n",
       "#sk-container-id-1 div.sk-dashed-wrapped {\n",
       "  border: 1px dashed var(--sklearn-color-line);\n",
       "  margin: 0 0.4em 0.5em 0.4em;\n",
       "  box-sizing: border-box;\n",
       "  padding-bottom: 0.4em;\n",
       "  background-color: var(--sklearn-color-background);\n",
       "}\n",
       "\n",
       "#sk-container-id-1 div.sk-container {\n",
       "  /* jupyter's `normalize.less` sets `[hidden] { display: none; }`\n",
       "     but bootstrap.min.css set `[hidden] { display: none !important; }`\n",
       "     so we also need the `!important` here to be able to override the\n",
       "     default hidden behavior on the sphinx rendered scikit-learn.org.\n",
       "     See: https://github.com/scikit-learn/scikit-learn/issues/21755 */\n",
       "  display: inline-block !important;\n",
       "  position: relative;\n",
       "}\n",
       "\n",
       "#sk-container-id-1 div.sk-text-repr-fallback {\n",
       "  display: none;\n",
       "}\n",
       "\n",
       "div.sk-parallel-item,\n",
       "div.sk-serial,\n",
       "div.sk-item {\n",
       "  /* draw centered vertical line to link estimators */\n",
       "  background-image: linear-gradient(var(--sklearn-color-text-on-default-background), var(--sklearn-color-text-on-default-background));\n",
       "  background-size: 2px 100%;\n",
       "  background-repeat: no-repeat;\n",
       "  background-position: center center;\n",
       "}\n",
       "\n",
       "/* Parallel-specific style estimator block */\n",
       "\n",
       "#sk-container-id-1 div.sk-parallel-item::after {\n",
       "  content: \"\";\n",
       "  width: 100%;\n",
       "  border-bottom: 2px solid var(--sklearn-color-text-on-default-background);\n",
       "  flex-grow: 1;\n",
       "}\n",
       "\n",
       "#sk-container-id-1 div.sk-parallel {\n",
       "  display: flex;\n",
       "  align-items: stretch;\n",
       "  justify-content: center;\n",
       "  background-color: var(--sklearn-color-background);\n",
       "  position: relative;\n",
       "}\n",
       "\n",
       "#sk-container-id-1 div.sk-parallel-item {\n",
       "  display: flex;\n",
       "  flex-direction: column;\n",
       "}\n",
       "\n",
       "#sk-container-id-1 div.sk-parallel-item:first-child::after {\n",
       "  align-self: flex-end;\n",
       "  width: 50%;\n",
       "}\n",
       "\n",
       "#sk-container-id-1 div.sk-parallel-item:last-child::after {\n",
       "  align-self: flex-start;\n",
       "  width: 50%;\n",
       "}\n",
       "\n",
       "#sk-container-id-1 div.sk-parallel-item:only-child::after {\n",
       "  width: 0;\n",
       "}\n",
       "\n",
       "/* Serial-specific style estimator block */\n",
       "\n",
       "#sk-container-id-1 div.sk-serial {\n",
       "  display: flex;\n",
       "  flex-direction: column;\n",
       "  align-items: center;\n",
       "  background-color: var(--sklearn-color-background);\n",
       "  padding-right: 1em;\n",
       "  padding-left: 1em;\n",
       "}\n",
       "\n",
       "\n",
       "/* Toggleable style: style used for estimator/Pipeline/ColumnTransformer box that is\n",
       "clickable and can be expanded/collapsed.\n",
       "- Pipeline and ColumnTransformer use this feature and define the default style\n",
       "- Estimators will overwrite some part of the style using the `sk-estimator` class\n",
       "*/\n",
       "\n",
       "/* Pipeline and ColumnTransformer style (default) */\n",
       "\n",
       "#sk-container-id-1 div.sk-toggleable {\n",
       "  /* Default theme specific background. It is overwritten whether we have a\n",
       "  specific estimator or a Pipeline/ColumnTransformer */\n",
       "  background-color: var(--sklearn-color-background);\n",
       "}\n",
       "\n",
       "/* Toggleable label */\n",
       "#sk-container-id-1 label.sk-toggleable__label {\n",
       "  cursor: pointer;\n",
       "  display: flex;\n",
       "  width: 100%;\n",
       "  margin-bottom: 0;\n",
       "  padding: 0.5em;\n",
       "  box-sizing: border-box;\n",
       "  text-align: center;\n",
       "  align-items: start;\n",
       "  justify-content: space-between;\n",
       "  gap: 0.5em;\n",
       "}\n",
       "\n",
       "#sk-container-id-1 label.sk-toggleable__label .caption {\n",
       "  font-size: 0.6rem;\n",
       "  font-weight: lighter;\n",
       "  color: var(--sklearn-color-text-muted);\n",
       "}\n",
       "\n",
       "#sk-container-id-1 label.sk-toggleable__label-arrow:before {\n",
       "  /* Arrow on the left of the label */\n",
       "  content: \"▸\";\n",
       "  float: left;\n",
       "  margin-right: 0.25em;\n",
       "  color: var(--sklearn-color-icon);\n",
       "}\n",
       "\n",
       "#sk-container-id-1 label.sk-toggleable__label-arrow:hover:before {\n",
       "  color: var(--sklearn-color-text);\n",
       "}\n",
       "\n",
       "/* Toggleable content - dropdown */\n",
       "\n",
       "#sk-container-id-1 div.sk-toggleable__content {\n",
       "  max-height: 0;\n",
       "  max-width: 0;\n",
       "  overflow: hidden;\n",
       "  text-align: left;\n",
       "  /* unfitted */\n",
       "  background-color: var(--sklearn-color-unfitted-level-0);\n",
       "}\n",
       "\n",
       "#sk-container-id-1 div.sk-toggleable__content.fitted {\n",
       "  /* fitted */\n",
       "  background-color: var(--sklearn-color-fitted-level-0);\n",
       "}\n",
       "\n",
       "#sk-container-id-1 div.sk-toggleable__content pre {\n",
       "  margin: 0.2em;\n",
       "  border-radius: 0.25em;\n",
       "  color: var(--sklearn-color-text);\n",
       "  /* unfitted */\n",
       "  background-color: var(--sklearn-color-unfitted-level-0);\n",
       "}\n",
       "\n",
       "#sk-container-id-1 div.sk-toggleable__content.fitted pre {\n",
       "  /* unfitted */\n",
       "  background-color: var(--sklearn-color-fitted-level-0);\n",
       "}\n",
       "\n",
       "#sk-container-id-1 input.sk-toggleable__control:checked~div.sk-toggleable__content {\n",
       "  /* Expand drop-down */\n",
       "  max-height: 200px;\n",
       "  max-width: 100%;\n",
       "  overflow: auto;\n",
       "}\n",
       "\n",
       "#sk-container-id-1 input.sk-toggleable__control:checked~label.sk-toggleable__label-arrow:before {\n",
       "  content: \"▾\";\n",
       "}\n",
       "\n",
       "/* Pipeline/ColumnTransformer-specific style */\n",
       "\n",
       "#sk-container-id-1 div.sk-label input.sk-toggleable__control:checked~label.sk-toggleable__label {\n",
       "  color: var(--sklearn-color-text);\n",
       "  background-color: var(--sklearn-color-unfitted-level-2);\n",
       "}\n",
       "\n",
       "#sk-container-id-1 div.sk-label.fitted input.sk-toggleable__control:checked~label.sk-toggleable__label {\n",
       "  background-color: var(--sklearn-color-fitted-level-2);\n",
       "}\n",
       "\n",
       "/* Estimator-specific style */\n",
       "\n",
       "/* Colorize estimator box */\n",
       "#sk-container-id-1 div.sk-estimator input.sk-toggleable__control:checked~label.sk-toggleable__label {\n",
       "  /* unfitted */\n",
       "  background-color: var(--sklearn-color-unfitted-level-2);\n",
       "}\n",
       "\n",
       "#sk-container-id-1 div.sk-estimator.fitted input.sk-toggleable__control:checked~label.sk-toggleable__label {\n",
       "  /* fitted */\n",
       "  background-color: var(--sklearn-color-fitted-level-2);\n",
       "}\n",
       "\n",
       "#sk-container-id-1 div.sk-label label.sk-toggleable__label,\n",
       "#sk-container-id-1 div.sk-label label {\n",
       "  /* The background is the default theme color */\n",
       "  color: var(--sklearn-color-text-on-default-background);\n",
       "}\n",
       "\n",
       "/* On hover, darken the color of the background */\n",
       "#sk-container-id-1 div.sk-label:hover label.sk-toggleable__label {\n",
       "  color: var(--sklearn-color-text);\n",
       "  background-color: var(--sklearn-color-unfitted-level-2);\n",
       "}\n",
       "\n",
       "/* Label box, darken color on hover, fitted */\n",
       "#sk-container-id-1 div.sk-label.fitted:hover label.sk-toggleable__label.fitted {\n",
       "  color: var(--sklearn-color-text);\n",
       "  background-color: var(--sklearn-color-fitted-level-2);\n",
       "}\n",
       "\n",
       "/* Estimator label */\n",
       "\n",
       "#sk-container-id-1 div.sk-label label {\n",
       "  font-family: monospace;\n",
       "  font-weight: bold;\n",
       "  display: inline-block;\n",
       "  line-height: 1.2em;\n",
       "}\n",
       "\n",
       "#sk-container-id-1 div.sk-label-container {\n",
       "  text-align: center;\n",
       "}\n",
       "\n",
       "/* Estimator-specific */\n",
       "#sk-container-id-1 div.sk-estimator {\n",
       "  font-family: monospace;\n",
       "  border: 1px dotted var(--sklearn-color-border-box);\n",
       "  border-radius: 0.25em;\n",
       "  box-sizing: border-box;\n",
       "  margin-bottom: 0.5em;\n",
       "  /* unfitted */\n",
       "  background-color: var(--sklearn-color-unfitted-level-0);\n",
       "}\n",
       "\n",
       "#sk-container-id-1 div.sk-estimator.fitted {\n",
       "  /* fitted */\n",
       "  background-color: var(--sklearn-color-fitted-level-0);\n",
       "}\n",
       "\n",
       "/* on hover */\n",
       "#sk-container-id-1 div.sk-estimator:hover {\n",
       "  /* unfitted */\n",
       "  background-color: var(--sklearn-color-unfitted-level-2);\n",
       "}\n",
       "\n",
       "#sk-container-id-1 div.sk-estimator.fitted:hover {\n",
       "  /* fitted */\n",
       "  background-color: var(--sklearn-color-fitted-level-2);\n",
       "}\n",
       "\n",
       "/* Specification for estimator info (e.g. \"i\" and \"?\") */\n",
       "\n",
       "/* Common style for \"i\" and \"?\" */\n",
       "\n",
       ".sk-estimator-doc-link,\n",
       "a:link.sk-estimator-doc-link,\n",
       "a:visited.sk-estimator-doc-link {\n",
       "  float: right;\n",
       "  font-size: smaller;\n",
       "  line-height: 1em;\n",
       "  font-family: monospace;\n",
       "  background-color: var(--sklearn-color-background);\n",
       "  border-radius: 1em;\n",
       "  height: 1em;\n",
       "  width: 1em;\n",
       "  text-decoration: none !important;\n",
       "  margin-left: 0.5em;\n",
       "  text-align: center;\n",
       "  /* unfitted */\n",
       "  border: var(--sklearn-color-unfitted-level-1) 1pt solid;\n",
       "  color: var(--sklearn-color-unfitted-level-1);\n",
       "}\n",
       "\n",
       ".sk-estimator-doc-link.fitted,\n",
       "a:link.sk-estimator-doc-link.fitted,\n",
       "a:visited.sk-estimator-doc-link.fitted {\n",
       "  /* fitted */\n",
       "  border: var(--sklearn-color-fitted-level-1) 1pt solid;\n",
       "  color: var(--sklearn-color-fitted-level-1);\n",
       "}\n",
       "\n",
       "/* On hover */\n",
       "div.sk-estimator:hover .sk-estimator-doc-link:hover,\n",
       ".sk-estimator-doc-link:hover,\n",
       "div.sk-label-container:hover .sk-estimator-doc-link:hover,\n",
       ".sk-estimator-doc-link:hover {\n",
       "  /* unfitted */\n",
       "  background-color: var(--sklearn-color-unfitted-level-3);\n",
       "  color: var(--sklearn-color-background);\n",
       "  text-decoration: none;\n",
       "}\n",
       "\n",
       "div.sk-estimator.fitted:hover .sk-estimator-doc-link.fitted:hover,\n",
       ".sk-estimator-doc-link.fitted:hover,\n",
       "div.sk-label-container:hover .sk-estimator-doc-link.fitted:hover,\n",
       ".sk-estimator-doc-link.fitted:hover {\n",
       "  /* fitted */\n",
       "  background-color: var(--sklearn-color-fitted-level-3);\n",
       "  color: var(--sklearn-color-background);\n",
       "  text-decoration: none;\n",
       "}\n",
       "\n",
       "/* Span, style for the box shown on hovering the info icon */\n",
       ".sk-estimator-doc-link span {\n",
       "  display: none;\n",
       "  z-index: 9999;\n",
       "  position: relative;\n",
       "  font-weight: normal;\n",
       "  right: .2ex;\n",
       "  padding: .5ex;\n",
       "  margin: .5ex;\n",
       "  width: min-content;\n",
       "  min-width: 20ex;\n",
       "  max-width: 50ex;\n",
       "  color: var(--sklearn-color-text);\n",
       "  box-shadow: 2pt 2pt 4pt #999;\n",
       "  /* unfitted */\n",
       "  background: var(--sklearn-color-unfitted-level-0);\n",
       "  border: .5pt solid var(--sklearn-color-unfitted-level-3);\n",
       "}\n",
       "\n",
       ".sk-estimator-doc-link.fitted span {\n",
       "  /* fitted */\n",
       "  background: var(--sklearn-color-fitted-level-0);\n",
       "  border: var(--sklearn-color-fitted-level-3);\n",
       "}\n",
       "\n",
       ".sk-estimator-doc-link:hover span {\n",
       "  display: block;\n",
       "}\n",
       "\n",
       "/* \"?\"-specific style due to the `<a>` HTML tag */\n",
       "\n",
       "#sk-container-id-1 a.estimator_doc_link {\n",
       "  float: right;\n",
       "  font-size: 1rem;\n",
       "  line-height: 1em;\n",
       "  font-family: monospace;\n",
       "  background-color: var(--sklearn-color-background);\n",
       "  border-radius: 1rem;\n",
       "  height: 1rem;\n",
       "  width: 1rem;\n",
       "  text-decoration: none;\n",
       "  /* unfitted */\n",
       "  color: var(--sklearn-color-unfitted-level-1);\n",
       "  border: var(--sklearn-color-unfitted-level-1) 1pt solid;\n",
       "}\n",
       "\n",
       "#sk-container-id-1 a.estimator_doc_link.fitted {\n",
       "  /* fitted */\n",
       "  border: var(--sklearn-color-fitted-level-1) 1pt solid;\n",
       "  color: var(--sklearn-color-fitted-level-1);\n",
       "}\n",
       "\n",
       "/* On hover */\n",
       "#sk-container-id-1 a.estimator_doc_link:hover {\n",
       "  /* unfitted */\n",
       "  background-color: var(--sklearn-color-unfitted-level-3);\n",
       "  color: var(--sklearn-color-background);\n",
       "  text-decoration: none;\n",
       "}\n",
       "\n",
       "#sk-container-id-1 a.estimator_doc_link.fitted:hover {\n",
       "  /* fitted */\n",
       "  background-color: var(--sklearn-color-fitted-level-3);\n",
       "}\n",
       "</style><div id=\"sk-container-id-1\" class=\"sk-top-container\"><div class=\"sk-text-repr-fallback\"><pre>Pipeline(steps=[(&#x27;impute&#x27;,\n",
       "                 ColumnTransformer(transformers=[(&#x27;median_imputer&#x27;,\n",
       "                                                  SimpleImputer(strategy=&#x27;median&#x27;),\n",
       "                                                  Index([&#x27;MSSubClass&#x27;, &#x27;LotFrontage&#x27;, &#x27;LotArea&#x27;, &#x27;OverallQual&#x27;, &#x27;OverallCond&#x27;,\n",
       "       &#x27;YearBuilt&#x27;, &#x27;YearRemodAdd&#x27;, &#x27;MasVnrArea&#x27;, &#x27;BsmtFinSF1&#x27;, &#x27;BsmtFinSF2&#x27;,\n",
       "       &#x27;BsmtUnfSF&#x27;, &#x27;TotalBsmtSF&#x27;, &#x27;1stFlrSF&#x27;, &#x27;2ndFlrSF&#x27;, &#x27;LowQualFinSF&#x27;,\n",
       "       &#x27;GrLivArea&#x27;, &#x27;BsmtFullBath&#x27;, &#x27;BsmtHalfBath...\n",
       "       &#x27;Exterior2nd&#x27;, &#x27;ExterQual&#x27;, &#x27;ExterCond&#x27;, &#x27;Foundation&#x27;, &#x27;BsmtQual&#x27;,\n",
       "       &#x27;BsmtCond&#x27;, &#x27;BsmtExposure&#x27;, &#x27;BsmtFinType1&#x27;, &#x27;BsmtFinType2&#x27;, &#x27;Heating&#x27;,\n",
       "       &#x27;HeatingQC&#x27;, &#x27;CentralAir&#x27;, &#x27;Electrical&#x27;, &#x27;KitchenQual&#x27;, &#x27;Functional&#x27;,\n",
       "       &#x27;GarageType&#x27;, &#x27;GarageFinish&#x27;, &#x27;GarageQual&#x27;, &#x27;GarageCond&#x27;, &#x27;PavedDrive&#x27;,\n",
       "       &#x27;SaleType&#x27;, &#x27;SaleCondition&#x27;],\n",
       "      dtype=&#x27;object&#x27;))],\n",
       "                                   verbose_feature_names_out=False)),\n",
       "                (&#x27;model&#x27;, RandomForestRegressor(random_state=42))])</pre><b>In a Jupyter environment, please rerun this cell to show the HTML representation or trust the notebook. <br />On GitHub, the HTML representation is unable to render, please try loading this page with nbviewer.org.</b></div><div class=\"sk-container\" hidden><div class=\"sk-item sk-dashed-wrapped\"><div class=\"sk-label-container\"><div class=\"sk-label  sk-toggleable\"><input class=\"sk-toggleable__control sk-hidden--visually\" id=\"sk-estimator-id-1\" type=\"checkbox\" ><label for=\"sk-estimator-id-1\" class=\"sk-toggleable__label  sk-toggleable__label-arrow\"><div><div>Pipeline</div></div><div><a class=\"sk-estimator-doc-link \" rel=\"noreferrer\" target=\"_blank\" href=\"https://scikit-learn.org/1.6/modules/generated/sklearn.pipeline.Pipeline.html\">?<span>Documentation for Pipeline</span></a><span class=\"sk-estimator-doc-link \">i<span>Not fitted</span></span></div></label><div class=\"sk-toggleable__content \"><pre>Pipeline(steps=[(&#x27;impute&#x27;,\n",
       "                 ColumnTransformer(transformers=[(&#x27;median_imputer&#x27;,\n",
       "                                                  SimpleImputer(strategy=&#x27;median&#x27;),\n",
       "                                                  Index([&#x27;MSSubClass&#x27;, &#x27;LotFrontage&#x27;, &#x27;LotArea&#x27;, &#x27;OverallQual&#x27;, &#x27;OverallCond&#x27;,\n",
       "       &#x27;YearBuilt&#x27;, &#x27;YearRemodAdd&#x27;, &#x27;MasVnrArea&#x27;, &#x27;BsmtFinSF1&#x27;, &#x27;BsmtFinSF2&#x27;,\n",
       "       &#x27;BsmtUnfSF&#x27;, &#x27;TotalBsmtSF&#x27;, &#x27;1stFlrSF&#x27;, &#x27;2ndFlrSF&#x27;, &#x27;LowQualFinSF&#x27;,\n",
       "       &#x27;GrLivArea&#x27;, &#x27;BsmtFullBath&#x27;, &#x27;BsmtHalfBath...\n",
       "       &#x27;Exterior2nd&#x27;, &#x27;ExterQual&#x27;, &#x27;ExterCond&#x27;, &#x27;Foundation&#x27;, &#x27;BsmtQual&#x27;,\n",
       "       &#x27;BsmtCond&#x27;, &#x27;BsmtExposure&#x27;, &#x27;BsmtFinType1&#x27;, &#x27;BsmtFinType2&#x27;, &#x27;Heating&#x27;,\n",
       "       &#x27;HeatingQC&#x27;, &#x27;CentralAir&#x27;, &#x27;Electrical&#x27;, &#x27;KitchenQual&#x27;, &#x27;Functional&#x27;,\n",
       "       &#x27;GarageType&#x27;, &#x27;GarageFinish&#x27;, &#x27;GarageQual&#x27;, &#x27;GarageCond&#x27;, &#x27;PavedDrive&#x27;,\n",
       "       &#x27;SaleType&#x27;, &#x27;SaleCondition&#x27;],\n",
       "      dtype=&#x27;object&#x27;))],\n",
       "                                   verbose_feature_names_out=False)),\n",
       "                (&#x27;model&#x27;, RandomForestRegressor(random_state=42))])</pre></div> </div></div><div class=\"sk-serial\"><div class=\"sk-item sk-dashed-wrapped\"><div class=\"sk-label-container\"><div class=\"sk-label  sk-toggleable\"><input class=\"sk-toggleable__control sk-hidden--visually\" id=\"sk-estimator-id-2\" type=\"checkbox\" ><label for=\"sk-estimator-id-2\" class=\"sk-toggleable__label  sk-toggleable__label-arrow\"><div><div>impute: ColumnTransformer</div></div><div><a class=\"sk-estimator-doc-link \" rel=\"noreferrer\" target=\"_blank\" href=\"https://scikit-learn.org/1.6/modules/generated/sklearn.compose.ColumnTransformer.html\">?<span>Documentation for impute: ColumnTransformer</span></a></div></label><div class=\"sk-toggleable__content \"><pre>ColumnTransformer(transformers=[(&#x27;median_imputer&#x27;,\n",
       "                                 SimpleImputer(strategy=&#x27;median&#x27;),\n",
       "                                 Index([&#x27;MSSubClass&#x27;, &#x27;LotFrontage&#x27;, &#x27;LotArea&#x27;, &#x27;OverallQual&#x27;, &#x27;OverallCond&#x27;,\n",
       "       &#x27;YearBuilt&#x27;, &#x27;YearRemodAdd&#x27;, &#x27;MasVnrArea&#x27;, &#x27;BsmtFinSF1&#x27;, &#x27;BsmtFinSF2&#x27;,\n",
       "       &#x27;BsmtUnfSF&#x27;, &#x27;TotalBsmtSF&#x27;, &#x27;1stFlrSF&#x27;, &#x27;2ndFlrSF&#x27;, &#x27;LowQualFinSF&#x27;,\n",
       "       &#x27;GrLivArea&#x27;, &#x27;BsmtFullBath&#x27;, &#x27;BsmtHalfBath&#x27;, &#x27;FullBath&#x27;, &#x27;HalfBath&#x27;,\n",
       "       &#x27;B...\n",
       "       &#x27;BldgType&#x27;, &#x27;HouseStyle&#x27;, &#x27;RoofStyle&#x27;, &#x27;RoofMatl&#x27;, &#x27;Exterior1st&#x27;,\n",
       "       &#x27;Exterior2nd&#x27;, &#x27;ExterQual&#x27;, &#x27;ExterCond&#x27;, &#x27;Foundation&#x27;, &#x27;BsmtQual&#x27;,\n",
       "       &#x27;BsmtCond&#x27;, &#x27;BsmtExposure&#x27;, &#x27;BsmtFinType1&#x27;, &#x27;BsmtFinType2&#x27;, &#x27;Heating&#x27;,\n",
       "       &#x27;HeatingQC&#x27;, &#x27;CentralAir&#x27;, &#x27;Electrical&#x27;, &#x27;KitchenQual&#x27;, &#x27;Functional&#x27;,\n",
       "       &#x27;GarageType&#x27;, &#x27;GarageFinish&#x27;, &#x27;GarageQual&#x27;, &#x27;GarageCond&#x27;, &#x27;PavedDrive&#x27;,\n",
       "       &#x27;SaleType&#x27;, &#x27;SaleCondition&#x27;],\n",
       "      dtype=&#x27;object&#x27;))],\n",
       "                  verbose_feature_names_out=False)</pre></div> </div></div><div class=\"sk-parallel\"><div class=\"sk-parallel-item\"><div class=\"sk-item\"><div class=\"sk-label-container\"><div class=\"sk-label  sk-toggleable\"><input class=\"sk-toggleable__control sk-hidden--visually\" id=\"sk-estimator-id-3\" type=\"checkbox\" ><label for=\"sk-estimator-id-3\" class=\"sk-toggleable__label  sk-toggleable__label-arrow\"><div><div>median_imputer</div></div></label><div class=\"sk-toggleable__content \"><pre>Index([&#x27;MSSubClass&#x27;, &#x27;LotFrontage&#x27;, &#x27;LotArea&#x27;, &#x27;OverallQual&#x27;, &#x27;OverallCond&#x27;,\n",
       "       &#x27;YearBuilt&#x27;, &#x27;YearRemodAdd&#x27;, &#x27;MasVnrArea&#x27;, &#x27;BsmtFinSF1&#x27;, &#x27;BsmtFinSF2&#x27;,\n",
       "       &#x27;BsmtUnfSF&#x27;, &#x27;TotalBsmtSF&#x27;, &#x27;1stFlrSF&#x27;, &#x27;2ndFlrSF&#x27;, &#x27;LowQualFinSF&#x27;,\n",
       "       &#x27;GrLivArea&#x27;, &#x27;BsmtFullBath&#x27;, &#x27;BsmtHalfBath&#x27;, &#x27;FullBath&#x27;, &#x27;HalfBath&#x27;,\n",
       "       &#x27;BedroomAbvGr&#x27;, &#x27;KitchenAbvGr&#x27;, &#x27;TotRmsAbvGrd&#x27;, &#x27;Fireplaces&#x27;,\n",
       "       &#x27;GarageYrBlt&#x27;, &#x27;GarageCars&#x27;, &#x27;GarageArea&#x27;, &#x27;WoodDeckSF&#x27;, &#x27;OpenPorchSF&#x27;,\n",
       "       &#x27;EnclosedPorch&#x27;, &#x27;3SsnPorch&#x27;, &#x27;ScreenPorch&#x27;, &#x27;PoolArea&#x27;, &#x27;MiscVal&#x27;,\n",
       "       &#x27;MoSold&#x27;, &#x27;YrSold&#x27;],\n",
       "      dtype=&#x27;object&#x27;)</pre></div> </div></div><div class=\"sk-serial\"><div class=\"sk-item\"><div class=\"sk-estimator  sk-toggleable\"><input class=\"sk-toggleable__control sk-hidden--visually\" id=\"sk-estimator-id-4\" type=\"checkbox\" ><label for=\"sk-estimator-id-4\" class=\"sk-toggleable__label  sk-toggleable__label-arrow\"><div><div>SimpleImputer</div></div><div><a class=\"sk-estimator-doc-link \" rel=\"noreferrer\" target=\"_blank\" href=\"https://scikit-learn.org/1.6/modules/generated/sklearn.impute.SimpleImputer.html\">?<span>Documentation for SimpleImputer</span></a></div></label><div class=\"sk-toggleable__content \"><pre>SimpleImputer(strategy=&#x27;median&#x27;)</pre></div> </div></div></div></div></div><div class=\"sk-parallel-item\"><div class=\"sk-item\"><div class=\"sk-label-container\"><div class=\"sk-label  sk-toggleable\"><input class=\"sk-toggleable__control sk-hidden--visually\" id=\"sk-estimator-id-5\" type=\"checkbox\" ><label for=\"sk-estimator-id-5\" class=\"sk-toggleable__label  sk-toggleable__label-arrow\"><div><div>mode_imputer</div></div></label><div class=\"sk-toggleable__content \"><pre>Index([&#x27;MSZoning&#x27;, &#x27;Street&#x27;, &#x27;LotShape&#x27;, &#x27;LandContour&#x27;, &#x27;Utilities&#x27;,\n",
       "       &#x27;LotConfig&#x27;, &#x27;LandSlope&#x27;, &#x27;Neighborhood&#x27;, &#x27;Condition1&#x27;, &#x27;Condition2&#x27;,\n",
       "       &#x27;BldgType&#x27;, &#x27;HouseStyle&#x27;, &#x27;RoofStyle&#x27;, &#x27;RoofMatl&#x27;, &#x27;Exterior1st&#x27;,\n",
       "       &#x27;Exterior2nd&#x27;, &#x27;ExterQual&#x27;, &#x27;ExterCond&#x27;, &#x27;Foundation&#x27;, &#x27;BsmtQual&#x27;,\n",
       "       &#x27;BsmtCond&#x27;, &#x27;BsmtExposure&#x27;, &#x27;BsmtFinType1&#x27;, &#x27;BsmtFinType2&#x27;, &#x27;Heating&#x27;,\n",
       "       &#x27;HeatingQC&#x27;, &#x27;CentralAir&#x27;, &#x27;Electrical&#x27;, &#x27;KitchenQual&#x27;, &#x27;Functional&#x27;,\n",
       "       &#x27;GarageType&#x27;, &#x27;GarageFinish&#x27;, &#x27;GarageQual&#x27;, &#x27;GarageCond&#x27;, &#x27;PavedDrive&#x27;,\n",
       "       &#x27;SaleType&#x27;, &#x27;SaleCondition&#x27;],\n",
       "      dtype=&#x27;object&#x27;)</pre></div> </div></div><div class=\"sk-serial\"><div class=\"sk-item\"><div class=\"sk-estimator  sk-toggleable\"><input class=\"sk-toggleable__control sk-hidden--visually\" id=\"sk-estimator-id-6\" type=\"checkbox\" ><label for=\"sk-estimator-id-6\" class=\"sk-toggleable__label  sk-toggleable__label-arrow\"><div><div>SimpleImputer</div></div><div><a class=\"sk-estimator-doc-link \" rel=\"noreferrer\" target=\"_blank\" href=\"https://scikit-learn.org/1.6/modules/generated/sklearn.impute.SimpleImputer.html\">?<span>Documentation for SimpleImputer</span></a></div></label><div class=\"sk-toggleable__content \"><pre>SimpleImputer(strategy=&#x27;most_frequent&#x27;)</pre></div> </div></div></div></div></div></div></div><div class=\"sk-item sk-dashed-wrapped\"><div class=\"sk-label-container\"><div class=\"sk-label  sk-toggleable\"><input class=\"sk-toggleable__control sk-hidden--visually\" id=\"sk-estimator-id-7\" type=\"checkbox\" ><label for=\"sk-estimator-id-7\" class=\"sk-toggleable__label  sk-toggleable__label-arrow\"><div><div>encode: ColumnTransformer</div></div><div><a class=\"sk-estimator-doc-link \" rel=\"noreferrer\" target=\"_blank\" href=\"https://scikit-learn.org/1.6/modules/generated/sklearn.compose.ColumnTransformer.html\">?<span>Documentation for encode: ColumnTransformer</span></a></div></label><div class=\"sk-toggleable__content \"><pre>ColumnTransformer(remainder=&#x27;passthrough&#x27;,\n",
       "                  transformers=[(&#x27;categorical_one_hot&#x27;,\n",
       "                                 OneHotEncoder(handle_unknown=&#x27;ignore&#x27;,\n",
       "                                               sparse_output=False),\n",
       "                                 Index([&#x27;MSZoning&#x27;, &#x27;Street&#x27;, &#x27;LotShape&#x27;, &#x27;LandContour&#x27;, &#x27;Utilities&#x27;,\n",
       "       &#x27;LotConfig&#x27;, &#x27;LandSlope&#x27;, &#x27;Neighborhood&#x27;, &#x27;Condition1&#x27;, &#x27;Condition2&#x27;,\n",
       "       &#x27;BldgType&#x27;, &#x27;HouseStyle&#x27;, &#x27;RoofStyle&#x27;, &#x27;RoofMatl&#x27;, &#x27;Exterior1st&#x27;,\n",
       "       &#x27;Exterior2nd&#x27;, &#x27;ExterQual&#x27;, &#x27;ExterCond&#x27;, &#x27;Foundation&#x27;, &#x27;BsmtQual&#x27;,\n",
       "       &#x27;BsmtCond&#x27;, &#x27;BsmtExposure&#x27;, &#x27;BsmtFinType1&#x27;, &#x27;BsmtFinType2&#x27;, &#x27;Heating&#x27;,\n",
       "       &#x27;HeatingQC&#x27;, &#x27;CentralAir&#x27;, &#x27;Electrical&#x27;, &#x27;KitchenQual&#x27;, &#x27;Functional&#x27;,\n",
       "       &#x27;GarageType&#x27;, &#x27;GarageFinish&#x27;, &#x27;GarageQual&#x27;, &#x27;GarageCond&#x27;, &#x27;PavedDrive&#x27;,\n",
       "       &#x27;SaleType&#x27;, &#x27;SaleCondition&#x27;],\n",
       "      dtype=&#x27;object&#x27;))],\n",
       "                  verbose_feature_names_out=False)</pre></div> </div></div><div class=\"sk-parallel\"><div class=\"sk-parallel-item\"><div class=\"sk-item\"><div class=\"sk-label-container\"><div class=\"sk-label  sk-toggleable\"><input class=\"sk-toggleable__control sk-hidden--visually\" id=\"sk-estimator-id-8\" type=\"checkbox\" ><label for=\"sk-estimator-id-8\" class=\"sk-toggleable__label  sk-toggleable__label-arrow\"><div><div>categorical_one_hot</div></div></label><div class=\"sk-toggleable__content \"><pre>Index([&#x27;MSZoning&#x27;, &#x27;Street&#x27;, &#x27;LotShape&#x27;, &#x27;LandContour&#x27;, &#x27;Utilities&#x27;,\n",
       "       &#x27;LotConfig&#x27;, &#x27;LandSlope&#x27;, &#x27;Neighborhood&#x27;, &#x27;Condition1&#x27;, &#x27;Condition2&#x27;,\n",
       "       &#x27;BldgType&#x27;, &#x27;HouseStyle&#x27;, &#x27;RoofStyle&#x27;, &#x27;RoofMatl&#x27;, &#x27;Exterior1st&#x27;,\n",
       "       &#x27;Exterior2nd&#x27;, &#x27;ExterQual&#x27;, &#x27;ExterCond&#x27;, &#x27;Foundation&#x27;, &#x27;BsmtQual&#x27;,\n",
       "       &#x27;BsmtCond&#x27;, &#x27;BsmtExposure&#x27;, &#x27;BsmtFinType1&#x27;, &#x27;BsmtFinType2&#x27;, &#x27;Heating&#x27;,\n",
       "       &#x27;HeatingQC&#x27;, &#x27;CentralAir&#x27;, &#x27;Electrical&#x27;, &#x27;KitchenQual&#x27;, &#x27;Functional&#x27;,\n",
       "       &#x27;GarageType&#x27;, &#x27;GarageFinish&#x27;, &#x27;GarageQual&#x27;, &#x27;GarageCond&#x27;, &#x27;PavedDrive&#x27;,\n",
       "       &#x27;SaleType&#x27;, &#x27;SaleCondition&#x27;],\n",
       "      dtype=&#x27;object&#x27;)</pre></div> </div></div><div class=\"sk-serial\"><div class=\"sk-item\"><div class=\"sk-estimator  sk-toggleable\"><input class=\"sk-toggleable__control sk-hidden--visually\" id=\"sk-estimator-id-9\" type=\"checkbox\" ><label for=\"sk-estimator-id-9\" class=\"sk-toggleable__label  sk-toggleable__label-arrow\"><div><div>OneHotEncoder</div></div><div><a class=\"sk-estimator-doc-link \" rel=\"noreferrer\" target=\"_blank\" href=\"https://scikit-learn.org/1.6/modules/generated/sklearn.preprocessing.OneHotEncoder.html\">?<span>Documentation for OneHotEncoder</span></a></div></label><div class=\"sk-toggleable__content \"><pre>OneHotEncoder(handle_unknown=&#x27;ignore&#x27;, sparse_output=False)</pre></div> </div></div></div></div></div><div class=\"sk-parallel-item\"><div class=\"sk-item\"><div class=\"sk-label-container\"><div class=\"sk-label  sk-toggleable\"><input class=\"sk-toggleable__control sk-hidden--visually\" id=\"sk-estimator-id-10\" type=\"checkbox\" ><label for=\"sk-estimator-id-10\" class=\"sk-toggleable__label  sk-toggleable__label-arrow\"><div><div>remainder</div></div></label><div class=\"sk-toggleable__content \"><pre></pre></div> </div></div><div class=\"sk-serial\"><div class=\"sk-item\"><div class=\"sk-estimator  sk-toggleable\"><input class=\"sk-toggleable__control sk-hidden--visually\" id=\"sk-estimator-id-11\" type=\"checkbox\" ><label for=\"sk-estimator-id-11\" class=\"sk-toggleable__label  sk-toggleable__label-arrow\"><div><div>passthrough</div></div></label><div class=\"sk-toggleable__content \"><pre>passthrough</pre></div> </div></div></div></div></div></div></div><div class=\"sk-item\"><div class=\"sk-estimator  sk-toggleable\"><input class=\"sk-toggleable__control sk-hidden--visually\" id=\"sk-estimator-id-12\" type=\"checkbox\" ><label for=\"sk-estimator-id-12\" class=\"sk-toggleable__label  sk-toggleable__label-arrow\"><div><div>RandomForestRegressor</div></div><div><a class=\"sk-estimator-doc-link \" rel=\"noreferrer\" target=\"_blank\" href=\"https://scikit-learn.org/1.6/modules/generated/sklearn.ensemble.RandomForestRegressor.html\">?<span>Documentation for RandomForestRegressor</span></a></div></label><div class=\"sk-toggleable__content \"><pre>RandomForestRegressor(random_state=42)</pre></div> </div></div></div></div></div></div>"
      ],
      "text/plain": [
       "Pipeline(steps=[('impute',\n",
       "                 ColumnTransformer(transformers=[('median_imputer',\n",
       "                                                  SimpleImputer(strategy='median'),\n",
       "                                                  Index(['MSSubClass', 'LotFrontage', 'LotArea', 'OverallQual', 'OverallCond',\n",
       "       'YearBuilt', 'YearRemodAdd', 'MasVnrArea', 'BsmtFinSF1', 'BsmtFinSF2',\n",
       "       'BsmtUnfSF', 'TotalBsmtSF', '1stFlrSF', '2ndFlrSF', 'LowQualFinSF',\n",
       "       'GrLivArea', 'BsmtFullBath', 'BsmtHalfBath...\n",
       "       'Exterior2nd', 'ExterQual', 'ExterCond', 'Foundation', 'BsmtQual',\n",
       "       'BsmtCond', 'BsmtExposure', 'BsmtFinType1', 'BsmtFinType2', 'Heating',\n",
       "       'HeatingQC', 'CentralAir', 'Electrical', 'KitchenQual', 'Functional',\n",
       "       'GarageType', 'GarageFinish', 'GarageQual', 'GarageCond', 'PavedDrive',\n",
       "       'SaleType', 'SaleCondition'],\n",
       "      dtype='object'))],\n",
       "                                   verbose_feature_names_out=False)),\n",
       "                ('model', RandomForestRegressor(random_state=42))])"
      ]
     },
     "execution_count": 12,
     "metadata": {},
     "output_type": "execute_result"
    }
   ],
   "source": [
    "pipeline = Pipeline(\n",
    "    [\n",
    "        ('impute', impute_transformer),\n",
    "        ('encode', encode_transformer),\n",
    "        ('model', model)\n",
    "    ]\n",
    ").set_output(transform='pandas')\n",
    "pipeline"
   ]
  },
  {
   "cell_type": "markdown",
   "id": "7b3abc6c-f654-4a16-a0d0-14099510d5ec",
   "metadata": {},
   "source": [
    "## 📉 7. Run Pipeline Experiment\n",
    "\n",
    "With our Pipeline created we can now execute an experiment!\n",
    "\n",
    "* We use [MLFlow](https://mlflow.org/) to track our experiment\n",
    "* Any model metrics are caputed with `mlflow.log_metric()`\n",
    "* Any graphs/figures are captured with `mlflow.log_figure()`\n",
    "* The model itself is captured with `mlflow.sklearn.log_model()`\n",
    "\n",
    "📌 **Note:** Make sure the MLFlow Local Server is running before executing the code! `mlflow server --host 127.0.0.1 --port 8080`"
   ]
  },
  {
   "cell_type": "code",
   "execution_count": 13,
   "id": "fc7c7029-fac0-4c89-9dd7-c02f58fa8f8f",
   "metadata": {},
   "outputs": [
    {
     "data": {
      "text/plain": [
       "<Experiment: artifact_location='mlflow-artifacts:/370087510810227321', creation_time=1748227930745, experiment_id='370087510810227321', last_update_time=1748227930745, lifecycle_stage='active', name='Housing Price Prediction', tags={}>"
      ]
     },
     "execution_count": 13,
     "metadata": {},
     "output_type": "execute_result"
    }
   ],
   "source": [
    "# Create a new MLflow Experiment\n",
    "mlflow.set_tracking_uri(uri='http://127.0.0.1:8080')\n",
    "mlflow.set_experiment('Housing Price Prediction')"
   ]
  },
  {
   "cell_type": "code",
   "execution_count": 14,
   "id": "f44b31cd-269c-403d-9785-b37b85251dd9",
   "metadata": {},
   "outputs": [
    {
     "name": "stderr",
     "output_type": "stream",
     "text": [
      "/home/overlord/Documents/PythonProjects/DataDelver/modern-ml-microservices/.venv/lib/python3.13/site-packages/mlflow/types/utils.py:452: UserWarning:\n",
      "\n",
      "Hint: Inferred schema contains integer column(s). Integer columns in Python cannot represent missing values. If your input data contains missing values at inference time, it will be encoded as floats and will cause a schema enforcement error. The best way to avoid this problem is to infer the model schema based on a realistic data sample (training dataset) that includes missing values. Alternatively, you can declare integer columns as doubles (float64) whenever these columns may have missing values. See `Handling Integers With Missing Values <https://www.mlflow.org/docs/latest/models.html#handling-integers-with-missing-values>`_ for more details.\n",
      "\n",
      "2025/05/26 18:00:36 WARNING mlflow.utils.environment: Failed to resolve installed pip version. ``pip`` will be added to conda.yaml environment spec without a version specifier.\n"
     ]
    },
    {
     "name": "stdout",
     "output_type": "stream",
     "text": [
      "🏃 View run adorable-sloth-941 at: http://127.0.0.1:8080/#/experiments/370087510810227321/runs/e239594946d54f3ab52b474396026f28\n",
      "🧪 View experiment at: http://127.0.0.1:8080/#/experiments/370087510810227321\n",
      "Random Forest RMSE: 28413.021988638255\n",
      "Random Forest MAE: 17463.92294520548\n"
     ]
    }
   ],
   "source": [
    "# Start an MLflow run\n",
    "with mlflow.start_run():\n",
    "    pipeline.fit(X_train, y_train)\n",
    "    \n",
    "    y_pred = pipeline.predict(X_val)\n",
    "    \n",
    "    rmse = np.sqrt(mean_squared_error(y_val, y_pred))\n",
    "    mae = mean_absolute_error(y_val, y_pred)\n",
    "    fig = px.scatter(\n",
    "        x=y_val, \n",
    "        y=y_pred, \n",
    "        labels={\n",
    "            'x': 'Actual House Sale Price',\n",
    "            'y': 'Predicted House Sale Price'\n",
    "        },\n",
    "        title='Actual vs Predicted House Sale Price'\n",
    "    )\n",
    "\n",
    "    # Log metrics and figures\n",
    "    mlflow.log_metric('RMSE', rmse)\n",
    "    mlflow.log_metric('MAE', mae)\n",
    "    mlflow.log_figure(fig, 'actual_vs_predicted.html')\n",
    "\n",
    "    # Infer the model signature\n",
    "    signature = infer_signature(train[X_train.columns], y_pred)\n",
    "    \n",
    "    # Log the model\n",
    "    model_info = mlflow.sklearn.log_model(\n",
    "        sk_model=pipeline,\n",
    "        artifact_path='model',\n",
    "        signature=signature,\n",
    "        input_example=X_train\n",
    "    )\n",
    "    \n",
    "print(\"Random Forest RMSE:\", rmse)\n",
    "print(\"Random Forest MAE:\", mae)"
   ]
  },
  {
   "cell_type": "code",
   "execution_count": 15,
   "id": "3a873564-3311-4e65-9700-5203630ff664",
   "metadata": {},
   "outputs": [
    {
     "data": {
      "application/vnd.plotly.v1+json": {
       "config": {
        "plotlyServerURL": "https://plot.ly"
       },
       "data": [
        {
         "hovertemplate": "Actual House Sale Price=%{x}<br>Predicted House Sale Price=%{y}<extra></extra>",
         "legendgroup": "",
         "marker": {
          "color": "#636efa",
          "symbol": "circle"
         },
         "mode": "markers",
         "name": "",
         "orientation": "v",
         "showlegend": false,
         "type": "scatter",
         "x": {
          "bdata": "hFsCAIj1BAA4wQEAGG0CAGzQBADsJgEAzMAEAFA6AgAUSgEATBECAGg2AgDQ+wEAaDwBAPBDAwAIwwIAZA0CAMzMAgBYDwIAgM4BANByAwB4XQIAUDQDALylAgDo9wEAAO4CACxZAgCOwwIAyCYCAAjDAgAEMAMAGPABAGBVBAA0DwMARhICABjkAwDgIgIAEBsCAGxZAwDwugQA6HoBAES/AQDIIAMAzNIBAG3dAwD09QEA/MoBADjBAQAY8AEAbuUGAIAyAgDY0AEAoP0CADjBAQAYYQQAdDQCAKD3AwAIQAMAmKsCAPihAQDsowEAlAsBAJBZAgBI1gQAxAcEAEdTBAA4tQMAyKkBAGinBAA8bQEAgK8CAErQAQBwCwIA0KkBADxtAQBJVQkAyKMCAGBPBQAINAUAyCYCAOTnAQDwzAEAuAUBAGi5AQCkZAEA/EcCAIgHAgAQDwQAMOYCAPxgAgC7YAIAnFcCAMBRAgBU5gEAyJcEADQVAgAGmAIAyCADAFzOAgBkIAMAoPcDAKx+AgCEbgMAILkDAKADAgDQ9QIAVGMCAGBhAgA4MgQAaDYCAFgPAgBg6gAAYOQBABjwAQAcGQIA/EEDANjQAQB8pQEAeOABAIC1AQBgVQQAiAcCAAhGAgAolAIAmCgDAJirAgAoFwIA4JkDAIw2AQCAMgIAVHwCACzWAgDspAUADAUDAECWAQDviQAAXCYFAL6aBQDK/AEAcIIDADiFCwA4JgYAoAMCAFC3AgA0FQIAaDYCAHjgAQCQ0AMA3NoCAAwLAgC4BQEAHBkCAHhdAgCwDwMAvFoCAHhjAQBAEwIAn6kBAOAiAgDwTwEASAECALy+AgCAMgIA1XgEAHQ0AgDkzgEAyCYCAJilAwAgNgQAJX4IALC6AwBAfgUAIJMBAHCOAQDYTQIASFkEACANAgBouQEAbNwCADzqAQBctQIAvL4CALnaAACUBQIAWA8CABjkAwDgIgIAmCIEADLDAwAEFwMA+CQBAITeAQDApwEAAHECAPibAgCg/QIA6G4DAIgBAwBAnAAA1KECABRdAgDARQQAmKsCADg+AgB4zgQAqNICAEwRAgCMpwMA+B4CAOAiAgCwrQEA6G4DAIwwAgC29wEA1KECAFyvAwBkAQQAmfYCAJguAgDQ+wEAMOwBAKQsAgAw4AMAnFEDAMQDAQAoEQMAeF0CADALAQD0+wAAyKMCAHiRAQCkSwEA4IYCAMDUAQBYDwIAYFsDAOdXAgBI+wIAOD4CAAg6BACYLgIArJ0BAFCxAwDE9wIA/LEGAKjSAgDsowEAiIQCAICvAgBs+wEAOMEBAIzuAgAAcQIAaDYCAPBPAQAwaQIADPIBADjBAQDM0gEAHK8CAICpAwD4BgYAiIQCAMj0AQA4MgQAQMIEAPBDAwCcVwIAgDICADjBAQAgvwIAaBgHACC/AgBI3AMACEwBAKiNAQAURAIAHBkCAG3aBACYLgIA4CICAPTvAgBgZwEAiAEDALyrAQAoiAQAltUCAHCCAwB/XQEAoPcDAEjiAgDgpQEAVOYBAA==",
          "dtype": "i4"
         },
         "xaxis": "x",
         "y": {
          "bdata": "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",
          "dtype": "f8"
         },
         "yaxis": "y"
        }
       ],
       "layout": {
        "legend": {
         "tracegroupgap": 0
        },
        "template": {
         "data": {
          "bar": [
           {
            "error_x": {
             "color": "#2a3f5f"
            },
            "error_y": {
             "color": "#2a3f5f"
            },
            "marker": {
             "line": {
              "color": "#E5ECF6",
              "width": 0.5
             },
             "pattern": {
              "fillmode": "overlay",
              "size": 10,
              "solidity": 0.2
             }
            },
            "type": "bar"
           }
          ],
          "barpolar": [
           {
            "marker": {
             "line": {
              "color": "#E5ECF6",
              "width": 0.5
             },
             "pattern": {
              "fillmode": "overlay",
              "size": 10,
              "solidity": 0.2
             }
            },
            "type": "barpolar"
           }
          ],
          "carpet": [
           {
            "aaxis": {
             "endlinecolor": "#2a3f5f",
             "gridcolor": "white",
             "linecolor": "white",
             "minorgridcolor": "white",
             "startlinecolor": "#2a3f5f"
            },
            "baxis": {
             "endlinecolor": "#2a3f5f",
             "gridcolor": "white",
             "linecolor": "white",
             "minorgridcolor": "white",
             "startlinecolor": "#2a3f5f"
            },
            "type": "carpet"
           }
          ],
          "choropleth": [
           {
            "colorbar": {
             "outlinewidth": 0,
             "ticks": ""
            },
            "type": "choropleth"
           }
          ],
          "contour": [
           {
            "colorbar": {
             "outlinewidth": 0,
             "ticks": ""
            },
            "colorscale": [
             [
              0,
              "#0d0887"
             ],
             [
              0.1111111111111111,
              "#46039f"
             ],
             [
              0.2222222222222222,
              "#7201a8"
             ],
             [
              0.3333333333333333,
              "#9c179e"
             ],
             [
              0.4444444444444444,
              "#bd3786"
             ],
             [
              0.5555555555555556,
              "#d8576b"
             ],
             [
              0.6666666666666666,
              "#ed7953"
             ],
             [
              0.7777777777777778,
              "#fb9f3a"
             ],
             [
              0.8888888888888888,
              "#fdca26"
             ],
             [
              1,
              "#f0f921"
             ]
            ],
            "type": "contour"
           }
          ],
          "contourcarpet": [
           {
            "colorbar": {
             "outlinewidth": 0,
             "ticks": ""
            },
            "type": "contourcarpet"
           }
          ],
          "heatmap": [
           {
            "colorbar": {
             "outlinewidth": 0,
             "ticks": ""
            },
            "colorscale": [
             [
              0,
              "#0d0887"
             ],
             [
              0.1111111111111111,
              "#46039f"
             ],
             [
              0.2222222222222222,
              "#7201a8"
             ],
             [
              0.3333333333333333,
              "#9c179e"
             ],
             [
              0.4444444444444444,
              "#bd3786"
             ],
             [
              0.5555555555555556,
              "#d8576b"
             ],
             [
              0.6666666666666666,
              "#ed7953"
             ],
             [
              0.7777777777777778,
              "#fb9f3a"
             ],
             [
              0.8888888888888888,
              "#fdca26"
             ],
             [
              1,
              "#f0f921"
             ]
            ],
            "type": "heatmap"
           }
          ],
          "histogram": [
           {
            "marker": {
             "pattern": {
              "fillmode": "overlay",
              "size": 10,
              "solidity": 0.2
             }
            },
            "type": "histogram"
           }
          ],
          "histogram2d": [
           {
            "colorbar": {
             "outlinewidth": 0,
             "ticks": ""
            },
            "colorscale": [
             [
              0,
              "#0d0887"
             ],
             [
              0.1111111111111111,
              "#46039f"
             ],
             [
              0.2222222222222222,
              "#7201a8"
             ],
             [
              0.3333333333333333,
              "#9c179e"
             ],
             [
              0.4444444444444444,
              "#bd3786"
             ],
             [
              0.5555555555555556,
              "#d8576b"
             ],
             [
              0.6666666666666666,
              "#ed7953"
             ],
             [
              0.7777777777777778,
              "#fb9f3a"
             ],
             [
              0.8888888888888888,
              "#fdca26"
             ],
             [
              1,
              "#f0f921"
             ]
            ],
            "type": "histogram2d"
           }
          ],
          "histogram2dcontour": [
           {
            "colorbar": {
             "outlinewidth": 0,
             "ticks": ""
            },
            "colorscale": [
             [
              0,
              "#0d0887"
             ],
             [
              0.1111111111111111,
              "#46039f"
             ],
             [
              0.2222222222222222,
              "#7201a8"
             ],
             [
              0.3333333333333333,
              "#9c179e"
             ],
             [
              0.4444444444444444,
              "#bd3786"
             ],
             [
              0.5555555555555556,
              "#d8576b"
             ],
             [
              0.6666666666666666,
              "#ed7953"
             ],
             [
              0.7777777777777778,
              "#fb9f3a"
             ],
             [
              0.8888888888888888,
              "#fdca26"
             ],
             [
              1,
              "#f0f921"
             ]
            ],
            "type": "histogram2dcontour"
           }
          ],
          "mesh3d": [
           {
            "colorbar": {
             "outlinewidth": 0,
             "ticks": ""
            },
            "type": "mesh3d"
           }
          ],
          "parcoords": [
           {
            "line": {
             "colorbar": {
              "outlinewidth": 0,
              "ticks": ""
             }
            },
            "type": "parcoords"
           }
          ],
          "pie": [
           {
            "automargin": true,
            "type": "pie"
           }
          ],
          "scatter": [
           {
            "fillpattern": {
             "fillmode": "overlay",
             "size": 10,
             "solidity": 0.2
            },
            "type": "scatter"
           }
          ],
          "scatter3d": [
           {
            "line": {
             "colorbar": {
              "outlinewidth": 0,
              "ticks": ""
             }
            },
            "marker": {
             "colorbar": {
              "outlinewidth": 0,
              "ticks": ""
             }
            },
            "type": "scatter3d"
           }
          ],
          "scattercarpet": [
           {
            "marker": {
             "colorbar": {
              "outlinewidth": 0,
              "ticks": ""
             }
            },
            "type": "scattercarpet"
           }
          ],
          "scattergeo": [
           {
            "marker": {
             "colorbar": {
              "outlinewidth": 0,
              "ticks": ""
             }
            },
            "type": "scattergeo"
           }
          ],
          "scattergl": [
           {
            "marker": {
             "colorbar": {
              "outlinewidth": 0,
              "ticks": ""
             }
            },
            "type": "scattergl"
           }
          ],
          "scattermap": [
           {
            "marker": {
             "colorbar": {
              "outlinewidth": 0,
              "ticks": ""
             }
            },
            "type": "scattermap"
           }
          ],
          "scattermapbox": [
           {
            "marker": {
             "colorbar": {
              "outlinewidth": 0,
              "ticks": ""
             }
            },
            "type": "scattermapbox"
           }
          ],
          "scatterpolar": [
           {
            "marker": {
             "colorbar": {
              "outlinewidth": 0,
              "ticks": ""
             }
            },
            "type": "scatterpolar"
           }
          ],
          "scatterpolargl": [
           {
            "marker": {
             "colorbar": {
              "outlinewidth": 0,
              "ticks": ""
             }
            },
            "type": "scatterpolargl"
           }
          ],
          "scatterternary": [
           {
            "marker": {
             "colorbar": {
              "outlinewidth": 0,
              "ticks": ""
             }
            },
            "type": "scatterternary"
           }
          ],
          "surface": [
           {
            "colorbar": {
             "outlinewidth": 0,
             "ticks": ""
            },
            "colorscale": [
             [
              0,
              "#0d0887"
             ],
             [
              0.1111111111111111,
              "#46039f"
             ],
             [
              0.2222222222222222,
              "#7201a8"
             ],
             [
              0.3333333333333333,
              "#9c179e"
             ],
             [
              0.4444444444444444,
              "#bd3786"
             ],
             [
              0.5555555555555556,
              "#d8576b"
             ],
             [
              0.6666666666666666,
              "#ed7953"
             ],
             [
              0.7777777777777778,
              "#fb9f3a"
             ],
             [
              0.8888888888888888,
              "#fdca26"
             ],
             [
              1,
              "#f0f921"
             ]
            ],
            "type": "surface"
           }
          ],
          "table": [
           {
            "cells": {
             "fill": {
              "color": "#EBF0F8"
             },
             "line": {
              "color": "white"
             }
            },
            "header": {
             "fill": {
              "color": "#C8D4E3"
             },
             "line": {
              "color": "white"
             }
            },
            "type": "table"
           }
          ]
         },
         "layout": {
          "annotationdefaults": {
           "arrowcolor": "#2a3f5f",
           "arrowhead": 0,
           "arrowwidth": 1
          },
          "autotypenumbers": "strict",
          "coloraxis": {
           "colorbar": {
            "outlinewidth": 0,
            "ticks": ""
           }
          },
          "colorscale": {
           "diverging": [
            [
             0,
             "#8e0152"
            ],
            [
             0.1,
             "#c51b7d"
            ],
            [
             0.2,
             "#de77ae"
            ],
            [
             0.3,
             "#f1b6da"
            ],
            [
             0.4,
             "#fde0ef"
            ],
            [
             0.5,
             "#f7f7f7"
            ],
            [
             0.6,
             "#e6f5d0"
            ],
            [
             0.7,
             "#b8e186"
            ],
            [
             0.8,
             "#7fbc41"
            ],
            [
             0.9,
             "#4d9221"
            ],
            [
             1,
             "#276419"
            ]
           ],
           "sequential": [
            [
             0,
             "#0d0887"
            ],
            [
             0.1111111111111111,
             "#46039f"
            ],
            [
             0.2222222222222222,
             "#7201a8"
            ],
            [
             0.3333333333333333,
             "#9c179e"
            ],
            [
             0.4444444444444444,
             "#bd3786"
            ],
            [
             0.5555555555555556,
             "#d8576b"
            ],
            [
             0.6666666666666666,
             "#ed7953"
            ],
            [
             0.7777777777777778,
             "#fb9f3a"
            ],
            [
             0.8888888888888888,
             "#fdca26"
            ],
            [
             1,
             "#f0f921"
            ]
           ],
           "sequentialminus": [
            [
             0,
             "#0d0887"
            ],
            [
             0.1111111111111111,
             "#46039f"
            ],
            [
             0.2222222222222222,
             "#7201a8"
            ],
            [
             0.3333333333333333,
             "#9c179e"
            ],
            [
             0.4444444444444444,
             "#bd3786"
            ],
            [
             0.5555555555555556,
             "#d8576b"
            ],
            [
             0.6666666666666666,
             "#ed7953"
            ],
            [
             0.7777777777777778,
             "#fb9f3a"
            ],
            [
             0.8888888888888888,
             "#fdca26"
            ],
            [
             1,
             "#f0f921"
            ]
           ]
          },
          "colorway": [
           "#636efa",
           "#EF553B",
           "#00cc96",
           "#ab63fa",
           "#FFA15A",
           "#19d3f3",
           "#FF6692",
           "#B6E880",
           "#FF97FF",
           "#FECB52"
          ],
          "font": {
           "color": "#2a3f5f"
          },
          "geo": {
           "bgcolor": "white",
           "lakecolor": "white",
           "landcolor": "#E5ECF6",
           "showlakes": true,
           "showland": true,
           "subunitcolor": "white"
          },
          "hoverlabel": {
           "align": "left"
          },
          "hovermode": "closest",
          "mapbox": {
           "style": "light"
          },
          "paper_bgcolor": "white",
          "plot_bgcolor": "#E5ECF6",
          "polar": {
           "angularaxis": {
            "gridcolor": "white",
            "linecolor": "white",
            "ticks": ""
           },
           "bgcolor": "#E5ECF6",
           "radialaxis": {
            "gridcolor": "white",
            "linecolor": "white",
            "ticks": ""
           }
          },
          "scene": {
           "xaxis": {
            "backgroundcolor": "#E5ECF6",
            "gridcolor": "white",
            "gridwidth": 2,
            "linecolor": "white",
            "showbackground": true,
            "ticks": "",
            "zerolinecolor": "white"
           },
           "yaxis": {
            "backgroundcolor": "#E5ECF6",
            "gridcolor": "white",
            "gridwidth": 2,
            "linecolor": "white",
            "showbackground": true,
            "ticks": "",
            "zerolinecolor": "white"
           },
           "zaxis": {
            "backgroundcolor": "#E5ECF6",
            "gridcolor": "white",
            "gridwidth": 2,
            "linecolor": "white",
            "showbackground": true,
            "ticks": "",
            "zerolinecolor": "white"
           }
          },
          "shapedefaults": {
           "line": {
            "color": "#2a3f5f"
           }
          },
          "ternary": {
           "aaxis": {
            "gridcolor": "white",
            "linecolor": "white",
            "ticks": ""
           },
           "baxis": {
            "gridcolor": "white",
            "linecolor": "white",
            "ticks": ""
           },
           "bgcolor": "#E5ECF6",
           "caxis": {
            "gridcolor": "white",
            "linecolor": "white",
            "ticks": ""
           }
          },
          "title": {
           "x": 0.05
          },
          "xaxis": {
           "automargin": true,
           "gridcolor": "white",
           "linecolor": "white",
           "ticks": "",
           "title": {
            "standoff": 15
           },
           "zerolinecolor": "white",
           "zerolinewidth": 2
          },
          "yaxis": {
           "automargin": true,
           "gridcolor": "white",
           "linecolor": "white",
           "ticks": "",
           "title": {
            "standoff": 15
           },
           "zerolinecolor": "white",
           "zerolinewidth": 2
          }
         }
        },
        "title": {
         "text": "Actual vs Predicted House Sale Price"
        },
        "xaxis": {
         "anchor": "y",
         "domain": [
          0,
          1
         ],
         "title": {
          "text": "Actual House Sale Price"
         }
        },
        "yaxis": {
         "anchor": "x",
         "domain": [
          0,
          1
         ],
         "title": {
          "text": "Predicted House Sale Price"
         }
        }
       }
      },
      "image/png": "[encoded data removed]"
     },
     "metadata": {},
     "output_type": "display_data"
    }
   ],
   "source": [
    "fig.show()"
   ]
  },
  {
   "cell_type": "markdown",
   "id": "930b4cc5-8340-41e9-b076-d80902d821fe",
   "metadata": {},
   "source": [
    "## 🤖 8. Use the Pipeline to Make Predictions on the Test Set!\n",
    "\n",
    "Now that our pipeline has been fitted, we can use it to make predictions on the test set!\n",
    "\n",
    "* Notice how we didn't have to transform the test set at all to make predictions when we call `predict()`, all of the neceissary transformations are built into the pipeline!"
   ]
  },
  {
   "cell_type": "code",
   "execution_count": 16,
   "id": "93c934ea-08b0-4d92-bbf0-b4ece7af970b",
   "metadata": {},
   "outputs": [],
   "source": [
    "test_submit = pipeline.predict(test)"
   ]
  },
  {
   "cell_type": "code",
   "execution_count": 17,
   "id": "f7ef1a89-9b0d-4fa1-9191-db62f4993ffd",
   "metadata": {},
   "outputs": [
    {
     "data": {
      "application/vnd.plotly.v1+json": {
       "config": {
        "plotlyServerURL": "https://plot.ly"
       },
       "data": [
        {
         "bingroup": "x",
         "hovertemplate": "Predicted Sale Price=%{x}<br>count=%{y}<extra></extra>",
         "legendgroup": "",
         "marker": {
          "color": "#636efa",
          "pattern": {
           "shape": ""
          }
         },
         "name": "",
         "orientation": "v",
         "showlegend": false,
         "type": "histogram",
         "x": {
          "bdata": "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",
          "dtype": "f8"
         },
         "xaxis": "x",
         "yaxis": "y"
        },
        {
         "hovertemplate": "Predicted Sale Price=%{x}<extra></extra>",
         "legendgroup": "",
         "marker": {
          "color": "#636efa"
         },
         "name": "",
         "notched": true,
         "showlegend": false,
         "type": "box",
         "x": {
          "bdata": "exSuRwVh/0AAAAAALOUCQc3MzMxC5wVBmpmZmW/mBkGuR+F6uP0IQZqZmZlVbgZBFK5H4cLeBEEfhetR5oAFQZqZmZkv/gVBAAAAANCa/UAUrkfhgCAHQQAAAABge/ZAmpmZmYmF+kAAAAAAoOUCQc3MzMzU6QBB16NwPftjFkEpXI/C8d8OQRSuR+EykxJBZmZmZqCoDkEpXI/C0FEbQQrXo3B0QRJBAAAAACjJCUHhehSuNe8FQbgehes77ARBhetRuLDsBEEzMzMz6y8IQY/C9Sim8BRBUrgehaf2DEGuR+F6UosJQc3MzMyCCAhBXI/C9RBCB0EAAAAAeAX4QClcj8KtSAZBPQrXo/ScEUFSuB6F9zgSQUjhehRuPwpBj8L1KOgUB0HNzMzM3rYCQexRuB6BlAJB16NwPfz6AkHNzMzM8vQEQVK4HoUtgQNBhetRuHe1EkGPwvUoEPoLQSlcj8KRlApBAAAAAMDMB0HNzMzMPCMMQQAAAAAgtQhBAAAAAPxtBEFcj8L1vocCQVyPwvU6PAJBAAAAAFgKBUEfhetRXpgCQQAAAACc0QNB7FG4HrHtBUEAAAAAxMIDQVyPwvVedwJBAAAAAAxN/0CPwvUokDMLQQAAAADI1gBBAAAAAOjfAUEAAAAAWG8EQQAAAABQ+/pAAAAAAIjX/UAAAAAAUIv/QLgehes5hf9AAAAAAEB5+kAAAAAAQGf/QAAAAABMQgFBMzMzM6NOBEFmZmZmdI4AQQAAAABgTvpAAAAAADARAkF7FK5HcVP8QOxRuB7ZDwNBcT0K1wPY/UA9CtejWNz0QM3MzMzq4gdBXI/C9ZQzDUGPwvUoeJn8QNejcD0MOAJBhetRuBapAUFmZmZm/rAJQQAAAACImPNAPQrXowDs+kAAAAAAYEP+QIXrUbiqNgBBCtejcGU8AEE9CtejSKH9QIXrUbj2lQFBAAAAAFTO/EAK16Nwz3cCQRSuR+EkKwJBKVyPwuVX+0BmZmZmCFQEQbgehevtyvdACtejcIl8/kA9CtejUKf3QB+F61GY2/xAUrgehZ2TAkFSuB6FgRMCQQAAAAAA2P5ArkfheqCM/UBxPQrX690DQRSuR+F+EwJBFK5H4coiCkE9Ctej+DP0QGZmZmZ+GgxBAAAAALwGA0EAAAAAFDkAQXE9CtdpWQBBAAAAADTEAUHsUbgeJaMMQc3MzMzAOf5AmpmZmTlaCUH2KFyP6C0KQWZmZmYW1ghBmpmZmYlfAkFmZmZm0qwBQTMzMzMnZgdBAAAAANaUAUHNzMzMLAAAQa5H4XpwbxRBAAAAAPK2DUEAAAAA7PUAQT0K16Mw8PJAAAAAAIAL+0DsUbgeKcwCQQAAAAB4PvlAXI/C9cCmAEF7FK5HNXn5QM3MzMy4F/9AexSuR2VV/UCF61G47hEBQcP1KFwLwf9A7FG4Hj+TC0EK16NwTXcDQVyPwvWuTAdBAAAAAKA/CkEAAAAAoLgHQQAAAAAwy/RAPQrXo8Bm/ECuR+F6REX5QAAAAABgTBFBKVyPwk9VDkEAAAAA6GEEQQrXo3BPmgRBhetRuJD6CUEfhetRRI0IQVyPwvUMaANBuB6F60VaAkHsUbge9UUEQVK4HoUbsARBAAAAAMjx/UB7FK5HbQ32QAAAAAAwRPVAAAAAAIjo9kAAAAAAKNX+QAAAAACYpQBBPQrXoxjDAkGamZmZAzUBQVyPwvWIUANBpHA9Ctn5EUHXo3A9OnkKQXE9CtcHL/9AzczMzII7BUHNzMzMTjMHQR+F61G7qRFBuB6F64MkBUE9CtejWiAXQUjhehQUZwxBXI/C9V5hDkHXo3A9UFsEQVyPwvUmfwZB9ihcj5ZeBkHXo3A9jkoEQexRuB6FuwRBmpmZmVFsCUEAAAAA3DUGQY/C9Sii8A1BAAAAAKzTBUHD9Shcj48KQc3MzMwgiAtBrkfher62C0EAAAAAQOIFQQAAAABA3QJBAAAAAETvA0G4HoXrT7QBQQAAAACSKwFBAAAAANjz/EAAAAAAEGj9QAAAAAAwxvZAAAAAAMih+EAAAAAA3M8DQcP1KFw3uwJBAAAAACSVAkHXo3A9TB4DQWZmZmag5gJBMzMzM6VFAUEAAAAAIOoBQXE9CteaGRpBpHA9Cv8cF0HXo3A9bAIXQRSuR+HbThpBAAAAAEYKE0HXo3A9DMkTQZqZmZl7VhZBMzMzM1eDE0GamZmZWf8RQWZmZmbgGBRBSOF6FOrDDkGPwvUohX0bQXsUrkeLcBJBw/UoXG9dDkEK16NwC1kHQT0K16OORwdBzczMzIJDCkGPwvUo7v4YQaRwPQpkqBdB9ihcjw4FFUHD9ShcFdUQQaRwPQryQBJBFK5H4egSB0GamZmZxzcFQa5H4XpwiQVBMzMzM1N6BEEUrkfhHGkEQWZmZmZaQAdBZmZmZoZcB0GamZmZ2XcGQeF6FK6d/wRBhetRuFjnEEF7FK5H1ZIEQQAAAACcgwZBXI/C9Z5uBEHsUbgetDcQQQAAAABoegRBUrgehQZjFUGamZmZutETQUjhehTIyw1BuB6F6+wPEEGuR+F65icPQdejcD1wdQ5BuB6F61xWEkEpXI/CJa8NQcP1KFwVexhBFK5H4VrECkHNzMzMZFoKQbgehetFTRFBhetRuLJqC0EAAAAAmMsPQR+F61GIEAxBpHA9ColoDUGkcD0KpeMKQQAAAAB0rQhBexSuR/trBUEzMzMzdUEDQYXrUbgsFAFBzczMzCgyCUF7FK5Hr1wPQQAAAABUYgNBAAAAAIggAEEAAAAAEPYCQfYoXI+E2AlBj8L1KJBzDEHsUbge3RMHQSlcj8L74AVBmpmZmVWgBkHD9ShcCe0DQRSuR+EieQRBcT0K12MW/kDXo3A9qB8AQQAAAAAgM/9AAAAAAMhAAEEAAAAAeD0AQXE9CtefDfxAKVyPwobRFUGPwvUo3sYKQfYoXI8WTQ9B4XoUrgd9B0GPwvUo1lIGQc3MzMzqqQRB4XoUrqXgA0H2KFyPXhkTQdejcD0u1ApBFK5H4SJ8EEFSuB6FIdUJQTMzMzPbwglBuB6F6xmZA0Fcj8L17hoCQeF6FK5JFA1BAAAAAJhu/kB7FK5Hz/kAQWZmZmbOoQlBAAAAAESiBEGamZmZkRL+QAAAAAAIzf1A9ihcjwptAkEAAAAABHcEQQAAAAAgKwNBuB6F6+FvAkEK16NwDaYFQQAAAADE/ARB9ihcjxJQ/ECF61G4yj4FQcP1KFxxaARB16NwPYo0CUEAAAAAViABQSlcj8Lz6wNBAAAAAA70AEEAAAAACA0BQYXrUbjYLAFBAAAAAHaUAUHhehSur5n/QAAAAADcMQBBAAAAAKjT/UAAAAAAGAb9QAAAAADw7P9AAAAAADir/EDNzMzMKJ4FQQAAAACWMABBAAAAAACb+EDNzMzMsAoAQQAAAAB4xPlAexSuR/W2/UBcj8L1Oo8CQSlcj8IXBwRBAAAAABAX7kAAAAAAYGP4QAAAAABwXvdAuB6F6zfOBkEAAAAANOICQQAAAAB4/QBBAAAAAMBGAUEAAAAADvAAQQAAAAAwyf9A4XoUrieq+0AAAAAAjK/+QGZmZmZKm/tAexSuR8Xn/kCkcD0K277+QOF6FK73uAJBZmZmZqx2AkGamZmZvVIBQQAAAAC8fABBMzMzM4ut+kDD9Shc8cQCQT0K16OYgP1AuB6F6yFG/0BSuB6F+a0BQVyPwvXUdvtAAAAAADRO+0AAAAAAlL/9QD0K16PgD/lAAAAAACi28EAAAAAASN35QBSuR+Gypf5ASOF6FLj2AUGkcD0KT8L7QAAAAACQyfRAPQrXo/D3/0BmZmZmWMICQQAAAAAATe9AAAAAAPBkAEHNzMzMXj0BQT0K16PozPlACtejcPWd+0CF61G4CBABQQAAAADspv1AUrgehV3FAkEAAAAAYAEEQYXrUbjyWf1ASOF6FJoZAkGuR+F6VsMAQbgehesjbwRBFK5H4Rq6AEEAAAAAmAP5QAAAAACgTABBPQrXo2gV9kBcj8L1Yk4EQRSuR+F4XgJBAAAAAKgO+EAAAAAAGHEBQY/C9Sh0PgFBMzMzMz+EAUEAAAAACD4CQRSuR+EkNQJBAAAAADAl8EAK16NwdYz8QAAAAAC4zP9Aj8L1KFR8A0EAAAAA3ID+QAAAAADsowBB9ihcjwQcBEF7FK5Hp4MCQfYoXI/YigpBMzMzM5f/AkGamZmZV4IBQTMzMzOLKv9ASOF6FATNAkEzMzMziyr/QMP1KFxeshBBFK5H4c58EEEUrkfhznwQQWZmZmaFPRRBCtejcJ8eFEGamZmZVyQOQR+F61HeNxNBj8L1KKraB0FI4XoUYAEPQa5H4XrKyQ9BZmZmZtLhBEHhehSuy2ULQc3MzMyAJQFBw/UoXMtMCEEAAAAA0LYHQbgeheu/6AhBH4XrUejkCUFmZmZmAukAQZqZmZlx4wBBmpmZmR0TDEGF61G48gkQQVyPwvXgQwhBSOF6FOoBC0GuR+F6LTcQQa5H4XoQyBJBKVyPwpEhB0H2KFyP2AwSQT0K16OYKQRBAAAAAPLPAEFSuB6FvW8BQXE9CtefQvtAAAAAAHIvAUHD9Shcm07+QAAAAADUSwJBAAAAAODH/UAAAAAAMKj8QD0K16PYdvpAMzMzM2co/0AUrkfhjDsBQT0K16MY3wNBAAAAAEL4AEFSuB6F2+YIQQAAAABA6ABBMzMzM81HBkH2KFyPACsCQQAAAABQ8QhBZmZmZtZF/0DhehSu//AAQY/C9SiCQgBBhetRuEqMB0FmZmZm4LQPQdejcD1UzgBBAAAAADjM8UAAAAAAUDEUQQAAAAA4h/JA4XoUrgexD0EAAAAA4MQAQeF6FK4xZANBrkfhekxUAUFcj8L14FYYQbgehetOJhRBAAAAAJBICUEAAAAA8KcKQSlcj8KNdwtB16NwPTo1F0EAAAAA/EYBQfYoXI9mRwNBj8L1KOz2/kAAAAAACIoAQc3MzMwEEAFB7FG4HgVKAUGamZmZndkFQc3MzMxijQZBw/UoXLvGBUEAAAAAsK0HQTMzMzPTkAZBpHA9CkUyBEEpXI/CL5IOQaRwPQrLDglB7FG4HsePBUEAAAAA+HEHQRSuR+EOBAlB16NwPTFiE0GF61G4+iEXQZqZmZnN4gJB7FG4Hj6aE0HNzMzMVvoEQUjhehSqUgtBMzMzM/tHBUFxPQrX/34OQZqZmZnzYAtBKVyPwoX8A0EAAAAAwBcJQQAAAAAIe/9AXI/C9boDD0G4HoXrK0IDQeF6FK7BTRJBH4XrUWYjAUEAAAAAQAn8QOxRuB69Iv1AAAAAAIDT9kAAAAAA6Bz7QDMzMzM3ovlAZmZmZqggA0H2KFyPrDYCQQAAAAAoMRJBmpmZmVUgGEFcj8L1aYEWQZqZmZmjOhlBZmZmZnN1GkEUrkfhCwcWQXsUrkcf3BBBpHA9CnsrE0HsUbgeru4aQXsUrkclhBBBrkfheiYgFUF7FK5HTxIWQa5H4Xqh6hRBFK5H4ZJ5B0FxPQrXnHIUQXE9CtepzQ1B4XoUrrNXC0GamZmZs2sEQexRuB65fAhBKVyPwpPECEEfhetR7kMGQbgehesF5QVBMzMzM5P0BkEpXI/CVU0KQQAAAAD65gpBmpmZmRlxCUF7FK5H8SUFQa5H4Xq6dAxBMzMzM39CBkHXo3A9mGUPQVK4HoXddBNBFK5H4ZjnE0HhehSuo9EOQXsUrkcvJBJBH4XrUVmXEEGF61G4niULQXsUrkdLhg5BFK5H4XJlD0GkcD0KI0QOQfYoXI8OwAtBAAAAAM6GDUGF61G4hF4JQRSuR+GShAdBKVyPwnGGB0EfhetRFmQCQVK4HoWzaQVB7FG4Hqm8BkEAAAAA/MEHQfYoXI+4bghBAAAAAFwgCEEAAAAAVMsIQXsUrke1rv5AzczMzAxcAEH2KFyPot78QHsUrkdtPPxAAAAAALByBUHXo3A9jAwCQYXrUbhoPAxB16NwPZNbFkH2KFyPWgIGQR+F61GeYAJBexSuR3mIAkG4HoXrf6YEQaRwPQq/GRFBUrgehbsjEEHsUbgexyMRQZqZmZmhaxBBFK5H4UZ1A0HNzMzMGHsIQc3MzMzarwlBj8L1KHQpC0GuR+F6QVATQSlcj8JxkAtBexSuR3S0FkEpXI/CQ7IRQdejcD2A0whBAAAAAKhrBEEAAAAADAQFQXsUrkd5pQlBrkfhenBmAEGF61G4Jp4CQQAAAADoSABB7FG4HntrAEGamZmZwVcGQQAAAADoT/pAAAAAAG4RAUEAAAAAWHoBQQAAAACot/ZAAAAAAOSeA0EAAAAAYBj/QAAAAAAw0P5AAAAAAMJXCkEAAAAAkFr/QFyPwvWOzANBmpmZmXEQBUEAAAAAALMAQQAAAABQF/xAAAAAAIL8AEEAAAAASE39QAAAAADMrQVBSOF6FOCtAUEK16NwQYwAQT0K16OIpvVAPQrXo9j5+0AAAAAAcLn4QHE9CtfPfgFBPQrXo07LAEF7FK5HB9kEQQAAAACY5AFBAAAAABiU/UAAAAAAvN4BQQAAAACc2f9AAAAAAJC9/0AAAAAAYGv7QAAAAADwXf1AAAAAAMij/UDD9ShcdX8BQQAAAAAAgftAAAAAALjs/0AAAAAAXNv9QAAAAABgk/1A7FG4Hr35+UAAAAAA0Hv3QD0K16M0bQBBFK5H4bLB/kBSuB6F3S8AQQAAAACeRwBBAAAAAHzy/kC4HoXrH8ICQQAAAABIUPZAPQrXo4jJ+ECamZmZSRACQQAAAAAg3/BAAAAAAGD7/EDXo3A9llb9QLgehevleAFBFK5H4VLG+kCkcD0KIXIAQVyPwvVA0ABBuB6F68WS9UAAAAAA7mMLQQAAAABQ+/xAAAAAANjb/EBSuB6Fb87+QOF6FK5ZSANBUrgehR0vAUE9CtejcEv9QHsUrkepNPtAH4XrUfigAkEAAAAAyIn9QArXo3Cp7gFBAAAAAGAq/EAAAAAALNH6QJqZmZmN1v1AAAAAADhE+0AAAAAAaNj7QAAAAABIpPZAAAAAAOSpBUHXo3A9QKIAQdejcD1KUANB4XoUrqV6A0FmZmZmCMwAQT0K16OYgfpA7FG4Hl0LAkEAAAAAPEoEQc3MzMwolPxAAAAAANgq/UAAAAAACMz9QAAAAAAQ7PpAPQrXo8AS9UA9Ctej+Br+QAAAAAD6TgFBXI/C9dqeAkEAAAAAfLwAQfYoXI/qjgFBAAAAAC7fAEEUrkfhfKoBQQAAAADEDP5AAAAAAGB5AEF7FK5HcQUDQQAAAABo2QJBAAAAAHhQ/kAAAAAADJ8AQQAAAAAWsAlBmpmZmbVo/kCF61G4UgYGQQAAAAC4KwNBmpmZmXHE+kAUrkfhymT/QGZmZmb0iQxBSOF6FFKwC0HD9ShcI0EMQQAAAADk2AlBcT0K11kPBUHD9ShcbYsOQeF6FK4+HhpBH4XrUVLJFEHNzMzMlJoPQQAAAABAdgVBAAAAAICsAUFcj8L12IYIQQAAAACMfwlBmpmZmVu4B0GF61G4ZhoLQVK4HoVJdwFBXI/C9fKtAUEfhetRHnMDQQAAAACsAQ5BcT0K199UEkEAAAAAEJYUQYXrUbi8mw5BCtejcMGZC0EAAAAAKDUBQT0K16PEFQhBexSuR+FWB0Fcj8L1qK8LQXsUrkfFeAhBAAAAAHTQAEEAAAAAnBgBQa5H4XqeJAJBAAAAAGAgAkEzMzMznQ0DQaRwPQpBvQRBAAAAADCG9UAAAAAA4A/2QAAAAABIKvZAAAAAAOh++UDXo3A9orP5QAAAAABwFvxAAAAAAJiL+0AAAAAA+Mb6QDMzMzORYwJBUrgehaUHBEEK16NwddD/QLgehevfRgBBcT0K15PHCEGF61G4VpsDQVyPwvU2vgVBuB6F661q+0AAAAAAcJoAQTMzMzOnRwpBcT0K1/HVC0EzMzMzJwEHQYXrUbhqMv9AAAAAANhU/EB7FK5HEXT8QAAAAACIcPlA4XoUrnUQAUHXo3A96lv7QAAAAADkogJBAAAAALiy80D2KFyPUlj2QHsUrkchb/RAPQrXo2BY90AK16NwHC0UQWZmZmb6iwtB7FG4HnOyDkEUrkfhKm8KQdejcD2+QwFBXI/C9aJbBUF7FK5HN9kHQY/C9SjQexFBFK5H4bw8DkH2KFyP8IcDQVK4HoUjkAlBAAAAAE6FBUFSuB6F9Y8FQexRuB7YXhBBXI/C9SIdCUEpXI/CZYQRQbgehesLDhVBj8L1KJwxCEEAAAAAdDj+QI/C9Sj8EwRBAAAAANR/AkEAAAAAKAcBQc3MzMxcpABBUrgehWd2+UAAAAAAWGf4QAAAAAAQzQFB16NwPQau+EAAAAAACNT9QJqZmZlxrP5AAAAAAOzpAEGkcD0KU77/QAAAAABgGgZB7FG4Hk0UA0H2KFyPvucFQQAAAAAAfQdB9ihcj3QTBkHNzMzM7BAIQXsUrkfNMwVBzczMzG6fBUE9CtejbokCQbgeheubHwhBXI/C9Si/CkHhehSutcMUQVyPwvVz/xpBAAAAAAy4BEHsUbgegYoSQXE9CtdedRZBAAAAAIi2F0EUrkfhkCIEQTMzMzPDZQZBUrgehXt3C0FxPQrX8bAIQQAAAACMPARBAAAAAFgFBUFcj8L14gkEQQAAAABA0wRB16NwPRb0BkFcj8L11q0CQa5H4XqUu/5AAAAAADwW/EDXo3A9HPIFQYXrUbiYFAZBAAAAAIBb90AfhetRpNj5QGZmZmZkiQFBAAAAAPiQ/0CF61G4JH0UQUjhehQojxBBH4XrUSp2FkHD9ShchaYZQUjhehR1uBNBMzMzM9pdGUHD9ShcC7AaQcP1KFzikRdB9ihcj1aFGkGamZmZ/n0QQa5H4XoocRNBuB6F6+ncEkHD9ShcP5UWQQrXo3BRQRNBcT0K1y2REUFI4XoUAJELQR+F61FkLQ1B4XoUrgPiDUFxPQrXy4YGQVyPwvUKxQZBCtejcKNNB0EUrkfhHioKQYXrUbgQhxFB16NwPVrkC0HD9ShcGx8HQVK4HoUXoQVBmpmZmSNmBUG4HoXrI1wFQZqZmZm5gwVBMzMzM9n8BUHXo3A9ug0GQZqZmZklawVBw/UoXPeNBUEzMzMzcREGQYXrUbjSfQ9Bj8L1KLqcBEFcj8L1FPIFQeF6FK5PhgRBXI/C9YTcCkFcj8L1oG4EQSlcj8J/EglBzczMzGg9CkEAAAAA8MQGQc3MzMze1gVBKVyPwjMtFUGPwvUoGWAWQXE9CtcykRJBUrgehWvOD0EfhetR+ccQQVK4HoWB5hNBAAAAAMhtCEEK16NwOcERQUjhehQ2swtB7FG4HpjLF0GkcD0KxaMKQYXrUbhCYA1B9ihcj1Z2CkGF61G4qjEMQcP1KFwF8Q1B4XoUrhmLC0GuR+F6gkMIQT0K16MwRQxBpHA9CveSAkEUrkfhmNoRQcP1KFxRgw9BKVyPwncTDUFSuB6FH4sLQbgeheuBQP9A9ihcj6KGAkEzMzMzW5oCQTMzMzMHYghBAAAAAJCyCEEpXI/CbcX9QHE9CtczrP1AAAAAADgjAUE9CtejvnMPQQAAAACQuQFBexSuR8MdAkFcj8L1KCoNQVyPwvVQeghBFK5H4T63CkF7FK5HLesHQT0K16Nu0QpBrkfheuxYBEHNzMzM9tMEQaRwPQqJOQVBw/UoXEDgEUEK16Nw8aQSQdejcD3ugw1BhetRuCcrEEHD9ShcjW0VQQAAAACu+ABBcT0K16kTCEGamZmZM7cBQQAAAAAApANBZmZmZm7BBkGamZmZaVcJQfYoXI+gtgxBAAAAAPB4AkEAAAAA9A8BQT0K16PGmQBBexSuR4Wr+EAzMzMzUyD/QD0K16N2ugBBzczMzLB2AEEAAAAAqBj8QM3MzMyI+gNBAAAAAFSWAUEzMzMzo6sHQQAAAABsfAJBmpmZmSnKCEEAAAAAADz/QAAAAADATu1AAAAAAHAY7kD2KFyPKi38QAAAAABcjgBBzczMzBw6AEEAAAAA3FYBQQAAAAAkWgNBAAAAAJTxAEFmZmZmwqr+QAAAAABW2ABBAAAAAIhRAEEAAAAArBYEQQAAAACocv5A9ihcj5jWAkEAAAAA9BABQQAAAAAg2v9AmpmZmVG8/0AAAAAAGPD+QAAAAACgb/9AAAAAAKgq/kDhehSuBy0AQQAAAAC4r/9AAAAAAO6dAkF7FK5HZer8QM3MzMy0d/9AcT0K16O0AkGamZmZ2/EDQQAAAADkwgBBPQrXo8bLAEHNzMzMMiQFQQAAAADg0/tAexSuRz2m/0AAAAAAUBX9QAAAAAB8ygBBAAAAAPyfAUEAAAAAjG4BQQAAAAAseQJBexSuRy1J+kDsUbgeIVL4QHE9CtevLf5AAAAAAHin/EAAAAAAePj9QHsUrke5WvpAPQrXo1ia+UAAAAAAWHz8QAAAAADogv5APQrXoxjz9kDNzMzMqFD/QD0K16NEHwpBuB6F67UVAkE9CtejGAr9QFyPwvXylgNB9ihcj4qZ/kDsUbgez+kIQQAAAAA4fflAAAAAADBZ/0B7FK5HAfb5QIXrUbjCcQBBPQrXo+Dy/EB7FK5HGc37QHsUrkf9vPpAMzMzM4kNAEEAAAAAqC/8QOxRuB4ZlwBBAAAAABD//EDNzMzMxo8EQQAAAABQnv9AexSuRz3H+0CkcD0KzWIBQfYoXI+qvvdAPQrXoyBC+EAzMzMzc/IFQSlcj8LBQgdBj8L1KJIpBkEAAAAAWLf9QHsUrkdtDvtAMzMzM2lhC0EzMzMzK/b6QAAAAAAEPwBBXI/C9SZvA0EAAAAA8An9QClcj8LtTwFBMzMzM7OM/kDNzMzMELEAQfYoXI8KlPxAXI/C9XjO/UAAAAAAcL79QAAAAAAY4wJBmpmZmZ3sBEEzMzMzkcsBQdejcD0IcAJBXI/C9c7dAkEAAAAAQCX3QDMzMzNj3wZBAAAAAGg3AEEAAAAATJ8EQQAAAAB4RflArkfhelQwC0EAAAAAQMYCQfYoXI/aYfxAPQrXo5Ck90AAAAAAeN7/QAAAAACEjQBBAAAAAIbhAUE9CtejeAb6QArXo3DjUQdBj8L1KDChCUGamZmZbZEOQUjhehTQMRNBrkfhemCeDkHNzMzM0uwKQRSuR+EygAxB9ihcj8bLBkFxPQrX43YKQVK4HoXtfwpBexSuR4/yC0EAAAAA9E8CQUjhehR4gQNB7FG4Hl2BAEGPwvUoMr0BQdejcD2U+wtBAAAAAMS4CUGPwvUobMsHQfYoXI/i8gpBPQrXo7o9AEHNzMzMsGEBQZqZmZkF4AFBXI/C9RppAUEzMzMzAxH+QHsUrkel0/5AAAAAAPBiAEEAAAAAWBT9QK5H4Xo4tgtBpHA9CnvRC0GPwvUo/FwIQfYoXI+isQ1BSOF6FPBVE0GF61G42hELQVyPwvX0tQ1BexSuR3PYBkGkcD0KNzgHQUjhehT8KQZBUrgehfVFBkFmZmZm/usDQRSuR+Ge7f9AAAAAABqDAEEAAAAA+AkAQQAAAAD4egFBKVyPwhlDAUHXo3A9TpMEQY/C9ShkeANBj8L1KFO6FEHhehSuUX0BQbgehetFwP1AAAAAADAe9kAAAAAAHBv+QHsUrkdFBvxA9ihcj7pf+UB7FK5HBTH8QAAAAABcqQJBcT0K19XiAEE9Ctej0BL+QDMzMzNnv/9AuB6F62G5/0AfhetRpFUBQTMzMzN/mgRB9ihcj4r+/UDsUbgeqWMCQXsUrkeJzf5AAAAAAAx9B0EAAAAACJgHQWZmZmZWJf9APQrXo0KdA0GuR+F6UkcIQdejcD3YWQxBAAAAAONVE0EAAAAAgKT+QB+F61GgVwBBZmZmZszHA0EAAAAAGBb4QAAAAAA4OfZAZmZmZjbx/kAAAAAAJgEBQQAAAAA43P1AuB6F6xz5EEEpXI/CzxcEQcP1KFxT4QVBAAAAABByCEGkcD0KqSMIQWZmZmYCHAJBZmZmZra2AUHD9Shci9kJQc3MzMxCbQpBj8L1KDIYC0EpXI/Cwz0PQZqZmZmLIgVBmpmZmXfgCkHNzMzMsz4UQXsUrkdNCwZBrkfheiaPEEEK16NwdpMTQVyPwvXGVANBzczMzKi+AEEAAAAA0Pr1QAAAAACQ5PdAAAAAAMjL9UAAAAAAuNX2QPYoXI9Q0QFBXI/C9VJJBUEAAAAATGIIQR+F61HkRgRBAAAAAHDo+0AAAAAATCoDQbgehet1twJBAAAAAGzm/kBSuB6FK8r9QAAAAAAwxwJBAAAAAGL9AEGF61G4ilMFQR+F61GmawZBMzMzM1t0CkEAAAAA3PEGQUjhehR+YwZBzczMzLYxB0GamZmZtxIPQT0K16MDnRBBmpmZmS5gFUEUrkfhFnAEQXsUrkf3VgdBCtejcPDGF0GF61G4W9YeQVK4HoU87BRBpHA9CuiXGUE9CtejbQgXQfYoXI9o/BNBhetRuEwQGEEpXI/C+0UCQQAAAABcxgdBj8L1KF6gA0E9CtejagwPQWZmZmYouAVBAAAAAABqAkFxPQrXF7H6QDMzMzO7igdBH4XrUUCt+0CF61G4Bsz+QAAAAADQA/hAAAAAAICI9kAAAAAAINj3QAAAAACeagFB9ihcj0YzAUHXo3A9UpkBQSlcj8LREwNBj8L1KFJbGEE9Ctejrg8OQeF6FK5NPQ1BexSuR7KlFkHXo3A9zu0SQeF6FK6chhRBzczMzCSiEUH2KFyPUjATQXE9CtcU3hRBPQrXo3BXFEGkcD0KxSoUQdejcD1liBBBH4XrUWRKEUGamZmZF+gSQXsUrkdXchFBH4XrUQT4BEHhehSurxUGQXE9CtdXNQZBZmZmZsaWEUH2KFyPuDsGQQAAAADgjQVB7FG4HiP/CEEK16NwubkIQWZmZmYeSwRBzczMzPY4B0HNzMzMoiMIQQrXo3DAOBBBFK5H4ZsQEUHXo3A9SBEQQbgehesbqRdBcT0K14y4EkFmZmZmlDIfQVyPwvXy6BFBmpmZmbYLFEHhehSu54UPQcP1KFwC5xNBuB6F6+8oDEFxPQrXfd8KQT0K16P1bhpBMzMzM7U3B0HXo3A9Jur/QBSuR+HKqwdBAAAAAARF/0BmZmZmBrEHQc3MzMw8sgZBj8L1KBrIB0EAAAAADF8IQQAAAABUcwZBSOF6FOBdBUGuR+F64MACQQAAAADIZP1APQrXo7zsA0Fcj8L17hQBQfYoXI/qrf5AAAAAABhi/EAAAAAA6Hv+QFyPwvVSpABBmpmZmXnT+kB7FK5HPdr+QKRwPQq+ERFBFK5H4YBDFUGamZmZa8wEQa5H4XqAYQJBAAAAAL6pBEGF61G4HFUDQSlcj8JD9QZBFK5H4agXDEEAAAAAKDIDQc3MzMyG7wNBAAAAAEh6AUEAAAAAxEYEQVyPwvXopQFBzczMzNgTAEEAAAAAmqIAQQAAAACANQJBMzMzMxu8BEEAAAAA0LwEQYXrUbi+LANBAAAAAMSXAUEAAAAA2H38QAAAAADgJv1AXI/C9eJlA0E9CtejuvUBQQAAAAB8rABBXI/C9f7rAUEAAAAAULf8QD0K16MOcgBBAAAAAOSAA0EAAAAAwBwBQVyPwvXqZgJBAAAAAD6qAkEAAAAAKFsCQQAAAABswgFBAAAAAHT5AEEAAAAAtKQAQQAAAACAVANBmpmZmZGY/kAAAAAAxKH/QJqZmZnzhgBBUrgehS+q/0ApXI/Cpe4JQXsUrkfbXAJBmpmZmaHAB0HsUbgevQn/QAAAAACs8fhAAAAAADAI9EAAAAAAqCz3QDMzMzNjZQNB16NwPaTRAUEAAAAAHGkBQQAAAABI5gFBXI/C9fYDB0EAAAAA6H0EQa5H4XpqNg5BUrgehQ32AUEAAAAA4C32QK5H4Xo85P5AAAAAAAxl/kAAAAAA6MsBQQAAAACwAf5AAAAAAKCN/kAK16Nwn1IBQQAAAABg/QBBCtejcO3P/0AAAAAAcJ8AQQAAAAAQqgJBPQrXoyCZ/EApXI/CQWX9QArXo3Ax4fpAexSuR/Gv+UAAAAAA6O74QD0K16NgEfpAMzMzM1Pp/0CkcD0KkU0BQQAAAABQ/fNAAAAAAIBg/UA9CtejIIn2QB+F61EQ4QlBMzMzM4u990AAAAAAsHL9QAAAAACYbPVAj8L1KHr7BEEAAAAAwLP6QD0K16NMuftAPQrXo9QH+kDD9ShcexUIQRSuR+FW0v1APQrXo6Cu/UAAAAAAuKDzQAAAAABIa/xAAAAAAMwHAEHsUbge3/IDQR+F61FshgJBAAAAAAiz90AAAAAAGNn3QM3MzMzIPgJBAAAAAKA9AkEAAAAAXCMAQQAAAABY2wBB16NwPVLcAkEAAAAAJAUCQVyPwvWmPwNBpHA9Cj2DA0EAAAAAWG35QFyPwvWG2AxBAAAAAHg/AUEK16NwO0YAQWZmZmaqqAVBAAAAAORIAEE9CtejiN/5QJqZmZmNQgZBUrgehYkTDEGamZmZ4TkGQT0K16OYpwJBAAAAAOhbAEEAAAAADI8BQZqZmZkjqgpB7FG4HiMdBUFI4XoUpnsMQR+F61FyRAdBrkfheoyJC0EAAAAAbOURQfYoXI/kbQtBpHA9CrElCkEUrkfhpB0IQc3MzMxS8gNBAAAAAIQLAkGamZmZT/8FQa5H4Xqq0gdB16NwPfjkCEHNzMzM5K4LQUjhehT4hQFBXI/C9Ub7AkEAAAAAYJr9QFyPwvVKwglBAAAAADiqCEHsUbgeadkMQQAAAACONAlB7FG4Hu15EUF7FK5H25cMQYXrUbgWbQtBKVyPwuWdDEEAAAAAANwAQXsUrkfXyAdBUrgehf/CCUE9Ctej5i0HQR+F61EG4QdBFK5H4egxAUEAAAAAEKH+QAAAAAAAPgBBMzMzM9XzB0EAAAAAANv9QArXo3DrqQ9B4XoUrqljAUGamZmZh7YAQQAAAABo5vlAZmZmZkJi+0CPwvUo2L/9QIXrUbhuDQNBAAAAAKjB+UAAAAAA0LfwQArXo3DNW/lAcT0K1/kcAUG4HoXr+QH8QLgeheurewNB9ihcj/oDAkH2KFyPlBwEQQAAAAAcYAFBexSuRxHZ+UBcj8L1NGoDQc3MzMw6LARBMzMzM3ffBEEAAAAACAQGQTMzMzN1DgZBAAAAABizB0F7FK5HaUb6QAAAAAAwzf5AAAAAACA670A9CtejSAn3QClcj8LF+ABBAAAAALgx8EDXo3A9Cnz6QAAAAAD48PBAzczMzDb/E0FI4XoUfL8RQZqZmZmlvQhB9ihcjzBIA0Fcj8L1+DoNQXE9CtfPCANBAAAAAFjkB0HD9Shc46EGQa5H4XqRNBVBzczMzJQLFUFmZmZmriz+QLgehesjaQdBw/UoXFdM/0AAAAAA2Nj+QI/C9SjAfwFBAAAAAMjz9EAAAAAAAC/2QAAAAAA6FwNBcT0K1y9r9kAAAAAAYNT1QAAAAACImfVAAAAAALCN9kBcj8L1KhQDQQAAAADQvvxAzczMzEA9C0E=",
          "dtype": "f8"
         },
         "xaxis": "x2",
         "yaxis": "y2"
        }
       ],
       "layout": {
        "barmode": "relative",
        "legend": {
         "tracegroupgap": 0
        },
        "template": {
         "data": {
          "bar": [
           {
            "error_x": {
             "color": "#2a3f5f"
            },
            "error_y": {
             "color": "#2a3f5f"
            },
            "marker": {
             "line": {
              "color": "#E5ECF6",
              "width": 0.5
             },
             "pattern": {
              "fillmode": "overlay",
              "size": 10,
              "solidity": 0.2
             }
            },
            "type": "bar"
           }
          ],
          "barpolar": [
           {
            "marker": {
             "line": {
              "color": "#E5ECF6",
              "width": 0.5
             },
             "pattern": {
              "fillmode": "overlay",
              "size": 10,
              "solidity": 0.2
             }
            },
            "type": "barpolar"
           }
          ],
          "carpet": [
           {
            "aaxis": {
             "endlinecolor": "#2a3f5f",
             "gridcolor": "white",
             "linecolor": "white",
             "minorgridcolor": "white",
             "startlinecolor": "#2a3f5f"
            },
            "baxis": {
             "endlinecolor": "#2a3f5f",
             "gridcolor": "white",
             "linecolor": "white",
             "minorgridcolor": "white",
             "startlinecolor": "#2a3f5f"
            },
            "type": "carpet"
           }
          ],
          "choropleth": [
           {
            "colorbar": {
             "outlinewidth": 0,
             "ticks": ""
            },
            "type": "choropleth"
           }
          ],
          "contour": [
           {
            "colorbar": {
             "outlinewidth": 0,
             "ticks": ""
            },
            "colorscale": [
             [
              0,
              "#0d0887"
             ],
             [
              0.1111111111111111,
              "#46039f"
             ],
             [
              0.2222222222222222,
              "#7201a8"
             ],
             [
              0.3333333333333333,
              "#9c179e"
             ],
             [
              0.4444444444444444,
              "#bd3786"
             ],
             [
              0.5555555555555556,
              "#d8576b"
             ],
             [
              0.6666666666666666,
              "#ed7953"
             ],
             [
              0.7777777777777778,
              "#fb9f3a"
             ],
             [
              0.8888888888888888,
              "#fdca26"
             ],
             [
              1,
              "#f0f921"
             ]
            ],
            "type": "contour"
           }
          ],
          "contourcarpet": [
           {
            "colorbar": {
             "outlinewidth": 0,
             "ticks": ""
            },
            "type": "contourcarpet"
           }
          ],
          "heatmap": [
           {
            "colorbar": {
             "outlinewidth": 0,
             "ticks": ""
            },
            "colorscale": [
             [
              0,
              "#0d0887"
             ],
             [
              0.1111111111111111,
              "#46039f"
             ],
             [
              0.2222222222222222,
              "#7201a8"
             ],
             [
              0.3333333333333333,
              "#9c179e"
             ],
             [
              0.4444444444444444,
              "#bd3786"
             ],
             [
              0.5555555555555556,
              "#d8576b"
             ],
             [
              0.6666666666666666,
              "#ed7953"
             ],
             [
              0.7777777777777778,
              "#fb9f3a"
             ],
             [
              0.8888888888888888,
              "#fdca26"
             ],
             [
              1,
              "#f0f921"
             ]
            ],
            "type": "heatmap"
           }
          ],
          "histogram": [
           {
            "marker": {
             "pattern": {
              "fillmode": "overlay",
              "size": 10,
              "solidity": 0.2
             }
            },
            "type": "histogram"
           }
          ],
          "histogram2d": [
           {
            "colorbar": {
             "outlinewidth": 0,
             "ticks": ""
            },
            "colorscale": [
             [
              0,
              "#0d0887"
             ],
             [
              0.1111111111111111,
              "#46039f"
             ],
             [
              0.2222222222222222,
              "#7201a8"
             ],
             [
              0.3333333333333333,
              "#9c179e"
             ],
             [
              0.4444444444444444,
              "#bd3786"
             ],
             [
              0.5555555555555556,
              "#d8576b"
             ],
             [
              0.6666666666666666,
              "#ed7953"
             ],
             [
              0.7777777777777778,
              "#fb9f3a"
             ],
             [
              0.8888888888888888,
              "#fdca26"
             ],
             [
              1,
              "#f0f921"
             ]
            ],
            "type": "histogram2d"
           }
          ],
          "histogram2dcontour": [
           {
            "colorbar": {
             "outlinewidth": 0,
             "ticks": ""
            },
            "colorscale": [
             [
              0,
              "#0d0887"
             ],
             [
              0.1111111111111111,
              "#46039f"
             ],
             [
              0.2222222222222222,
              "#7201a8"
             ],
             [
              0.3333333333333333,
              "#9c179e"
             ],
             [
              0.4444444444444444,
              "#bd3786"
             ],
             [
              0.5555555555555556,
              "#d8576b"
             ],
             [
              0.6666666666666666,
              "#ed7953"
             ],
             [
              0.7777777777777778,
              "#fb9f3a"
             ],
             [
              0.8888888888888888,
              "#fdca26"
             ],
             [
              1,
              "#f0f921"
             ]
            ],
            "type": "histogram2dcontour"
           }
          ],
          "mesh3d": [
           {
            "colorbar": {
             "outlinewidth": 0,
             "ticks": ""
            },
            "type": "mesh3d"
           }
          ],
          "parcoords": [
           {
            "line": {
             "colorbar": {
              "outlinewidth": 0,
              "ticks": ""
             }
            },
            "type": "parcoords"
           }
          ],
          "pie": [
           {
            "automargin": true,
            "type": "pie"
           }
          ],
          "scatter": [
           {
            "fillpattern": {
             "fillmode": "overlay",
             "size": 10,
             "solidity": 0.2
            },
            "type": "scatter"
           }
          ],
          "scatter3d": [
           {
            "line": {
             "colorbar": {
              "outlinewidth": 0,
              "ticks": ""
             }
            },
            "marker": {
             "colorbar": {
              "outlinewidth": 0,
              "ticks": ""
             }
            },
            "type": "scatter3d"
           }
          ],
          "scattercarpet": [
           {
            "marker": {
             "colorbar": {
              "outlinewidth": 0,
              "ticks": ""
             }
            },
            "type": "scattercarpet"
           }
          ],
          "scattergeo": [
           {
            "marker": {
             "colorbar": {
              "outlinewidth": 0,
              "ticks": ""
             }
            },
            "type": "scattergeo"
           }
          ],
          "scattergl": [
           {
            "marker": {
             "colorbar": {
              "outlinewidth": 0,
              "ticks": ""
             }
            },
            "type": "scattergl"
           }
          ],
          "scattermap": [
           {
            "marker": {
             "colorbar": {
              "outlinewidth": 0,
              "ticks": ""
             }
            },
            "type": "scattermap"
           }
          ],
          "scattermapbox": [
           {
            "marker": {
             "colorbar": {
              "outlinewidth": 0,
              "ticks": ""
             }
            },
            "type": "scattermapbox"
           }
          ],
          "scatterpolar": [
           {
            "marker": {
             "colorbar": {
              "outlinewidth": 0,
              "ticks": ""
             }
            },
            "type": "scatterpolar"
           }
          ],
          "scatterpolargl": [
           {
            "marker": {
             "colorbar": {
              "outlinewidth": 0,
              "ticks": ""
             }
            },
            "type": "scatterpolargl"
           }
          ],
          "scatterternary": [
           {
            "marker": {
             "colorbar": {
              "outlinewidth": 0,
              "ticks": ""
             }
            },
            "type": "scatterternary"
           }
          ],
          "surface": [
           {
            "colorbar": {
             "outlinewidth": 0,
             "ticks": ""
            },
            "colorscale": [
             [
              0,
              "#0d0887"
             ],
             [
              0.1111111111111111,
              "#46039f"
             ],
             [
              0.2222222222222222,
              "#7201a8"
             ],
             [
              0.3333333333333333,
              "#9c179e"
             ],
             [
              0.4444444444444444,
              "#bd3786"
             ],
             [
              0.5555555555555556,
              "#d8576b"
             ],
             [
              0.6666666666666666,
              "#ed7953"
             ],
             [
              0.7777777777777778,
              "#fb9f3a"
             ],
             [
              0.8888888888888888,
              "#fdca26"
             ],
             [
              1,
              "#f0f921"
             ]
            ],
            "type": "surface"
           }
          ],
          "table": [
           {
            "cells": {
             "fill": {
              "color": "#EBF0F8"
             },
             "line": {
              "color": "white"
             }
            },
            "header": {
             "fill": {
              "color": "#C8D4E3"
             },
             "line": {
              "color": "white"
             }
            },
            "type": "table"
           }
          ]
         },
         "layout": {
          "annotationdefaults": {
           "arrowcolor": "#2a3f5f",
           "arrowhead": 0,
           "arrowwidth": 1
          },
          "autotypenumbers": "strict",
          "coloraxis": {
           "colorbar": {
            "outlinewidth": 0,
            "ticks": ""
           }
          },
          "colorscale": {
           "diverging": [
            [
             0,
             "#8e0152"
            ],
            [
             0.1,
             "#c51b7d"
            ],
            [
             0.2,
             "#de77ae"
            ],
            [
             0.3,
             "#f1b6da"
            ],
            [
             0.4,
             "#fde0ef"
            ],
            [
             0.5,
             "#f7f7f7"
            ],
            [
             0.6,
             "#e6f5d0"
            ],
            [
             0.7,
             "#b8e186"
            ],
            [
             0.8,
             "#7fbc41"
            ],
            [
             0.9,
             "#4d9221"
            ],
            [
             1,
             "#276419"
            ]
           ],
           "sequential": [
            [
             0,
             "#0d0887"
            ],
            [
             0.1111111111111111,
             "#46039f"
            ],
            [
             0.2222222222222222,
             "#7201a8"
            ],
            [
             0.3333333333333333,
             "#9c179e"
            ],
            [
             0.4444444444444444,
             "#bd3786"
            ],
            [
             0.5555555555555556,
             "#d8576b"
            ],
            [
             0.6666666666666666,
             "#ed7953"
            ],
            [
             0.7777777777777778,
             "#fb9f3a"
            ],
            [
             0.8888888888888888,
             "#fdca26"
            ],
            [
             1,
             "#f0f921"
            ]
           ],
           "sequentialminus": [
            [
             0,
             "#0d0887"
            ],
            [
             0.1111111111111111,
             "#46039f"
            ],
            [
             0.2222222222222222,
             "#7201a8"
            ],
            [
             0.3333333333333333,
             "#9c179e"
            ],
            [
             0.4444444444444444,
             "#bd3786"
            ],
            [
             0.5555555555555556,
             "#d8576b"
            ],
            [
             0.6666666666666666,
             "#ed7953"
            ],
            [
             0.7777777777777778,
             "#fb9f3a"
            ],
            [
             0.8888888888888888,
             "#fdca26"
            ],
            [
             1,
             "#f0f921"
            ]
           ]
          },
          "colorway": [
           "#636efa",
           "#EF553B",
           "#00cc96",
           "#ab63fa",
           "#FFA15A",
           "#19d3f3",
           "#FF6692",
           "#B6E880",
           "#FF97FF",
           "#FECB52"
          ],
          "font": {
           "color": "#2a3f5f"
          },
          "geo": {
           "bgcolor": "white",
           "lakecolor": "white",
           "landcolor": "#E5ECF6",
           "showlakes": true,
           "showland": true,
           "subunitcolor": "white"
          },
          "hoverlabel": {
           "align": "left"
          },
          "hovermode": "closest",
          "mapbox": {
           "style": "light"
          },
          "paper_bgcolor": "white",
          "plot_bgcolor": "#E5ECF6",
          "polar": {
           "angularaxis": {
            "gridcolor": "white",
            "linecolor": "white",
            "ticks": ""
           },
           "bgcolor": "#E5ECF6",
           "radialaxis": {
            "gridcolor": "white",
            "linecolor": "white",
            "ticks": ""
           }
          },
          "scene": {
           "xaxis": {
            "backgroundcolor": "#E5ECF6",
            "gridcolor": "white",
            "gridwidth": 2,
            "linecolor": "white",
            "showbackground": true,
            "ticks": "",
            "zerolinecolor": "white"
           },
           "yaxis": {
            "backgroundcolor": "#E5ECF6",
            "gridcolor": "white",
            "gridwidth": 2,
            "linecolor": "white",
            "showbackground": true,
            "ticks": "",
            "zerolinecolor": "white"
           },
           "zaxis": {
            "backgroundcolor": "#E5ECF6",
            "gridcolor": "white",
            "gridwidth": 2,
            "linecolor": "white",
            "showbackground": true,
            "ticks": "",
            "zerolinecolor": "white"
           }
          },
          "shapedefaults": {
           "line": {
            "color": "#2a3f5f"
           }
          },
          "ternary": {
           "aaxis": {
            "gridcolor": "white",
            "linecolor": "white",
            "ticks": ""
           },
           "baxis": {
            "gridcolor": "white",
            "linecolor": "white",
            "ticks": ""
           },
           "bgcolor": "#E5ECF6",
           "caxis": {
            "gridcolor": "white",
            "linecolor": "white",
            "ticks": ""
           }
          },
          "title": {
           "x": 0.05
          },
          "xaxis": {
           "automargin": true,
           "gridcolor": "white",
           "linecolor": "white",
           "ticks": "",
           "title": {
            "standoff": 15
           },
           "zerolinecolor": "white",
           "zerolinewidth": 2
          },
          "yaxis": {
           "automargin": true,
           "gridcolor": "white",
           "linecolor": "white",
           "ticks": "",
           "title": {
            "standoff": 15
           },
           "zerolinecolor": "white",
           "zerolinewidth": 2
          }
         }
        },
        "title": {
         "text": "Distribution of Predicted House Sale Price on Test Set"
        },
        "xaxis": {
         "anchor": "y",
         "domain": [
          0,
          1
         ],
         "title": {
          "text": "Predicted Sale Price"
         }
        },
        "xaxis2": {
         "anchor": "y2",
         "domain": [
          0,
          1
         ],
         "matches": "x",
         "showgrid": true,
         "showticklabels": false
        },
        "yaxis": {
         "anchor": "x",
         "domain": [
          0,
          0.8316
         ],
         "title": {
          "text": "count"
         }
        },
        "yaxis2": {
         "anchor": "x2",
         "domain": [
          0.8416,
          1
         ],
         "matches": "y2",
         "showgrid": false,
         "showline": false,
         "showticklabels": false,
         "ticks": ""
        }
       }
      }
     },
     "metadata": {},
     "output_type": "display_data"
    }
   ],
   "source": [
    "# Create a histogram chart using Plotly\n",
    "fig = px.histogram(\n",
    "    x=test_submit,\n",
    "    labels= {'x': 'Predicted Sale Price'},\n",
    "    title='Distribution of Predicted House Sale Price on Test Set',\n",
    "    marginal='box'\n",
    ")\n",
    "fig.show()"
   ]
  },
  {
   "cell_type": "markdown",
   "id": "649f21e1-45e0-4f54-b92d-b034df80038b",
   "metadata": {},
   "source": [
    "## 🪄 9. Format Sample of Test Set for HTTP Precition\n",
    "\n",
    "The following snippet of code formats a sample of the test set into the schema expected by MLFlow Server.\n",
    "\n",
    "* We serialize and then deserialize the Dataframe to JSON to ensure that nulls are correctly encoded."
   ]
  },
  {
   "cell_type": "code",
   "execution_count": 18,
   "id": "706601cf-775f-46a0-acbe-d16e8e9ea7f1",
   "metadata": {},
   "outputs": [
    {
     "data": {
      "text/plain": [
       "'{\"dataframe_split\": {\"columns\": [\"Id\", \"MSSubClass\", \"MSZoning\", \"LotFrontage\", \"LotArea\", \"Street\", \"Alley\", \"LotShape\", \"LandContour\", \"Utilities\", \"LotConfig\", \"LandSlope\", \"Neighborhood\", \"Condition1\", \"Condition2\", \"BldgType\", \"HouseStyle\", \"OverallQual\", \"OverallCond\", \"YearBuilt\", \"YearRemodAdd\", \"RoofStyle\", \"RoofMatl\", \"Exterior1st\", \"Exterior2nd\", \"MasVnrType\", \"MasVnrArea\", \"ExterQual\", \"ExterCond\", \"Foundation\", \"BsmtQual\", \"BsmtCond\", \"BsmtExposure\", \"BsmtFinType1\", \"BsmtFinSF1\", \"BsmtFinType2\", \"BsmtFinSF2\", \"BsmtUnfSF\", \"TotalBsmtSF\", \"Heating\", \"HeatingQC\", \"CentralAir\", \"Electrical\", \"1stFlrSF\", \"2ndFlrSF\", \"LowQualFinSF\", \"GrLivArea\", \"BsmtFullBath\", \"BsmtHalfBath\", \"FullBath\", \"HalfBath\", \"BedroomAbvGr\", \"KitchenAbvGr\", \"KitchenQual\", \"TotRmsAbvGrd\", \"Functional\", \"Fireplaces\", \"FireplaceQu\", \"GarageType\", \"GarageYrBlt\", \"GarageFinish\", \"GarageCars\", \"GarageArea\", \"GarageQual\", \"GarageCond\", \"PavedDrive\", \"WoodDeckSF\", \"OpenPorchSF\", \"EnclosedPorch\", \"3SsnPorch\", \"ScreenPorch\", \"PoolArea\", \"PoolQC\", \"Fence\", \"MiscFeature\", \"MiscVal\", \"MoSold\", \"YrSold\", \"SaleType\", \"SaleCondition\"], \"index\": [0, 1, 2, 3, 4], \"data\": [[1461, 20, \"RH\", 80.0, 11622, \"Pave\", null, \"Reg\", \"Lvl\", \"AllPub\", \"Inside\", \"Gtl\", \"NAmes\", \"Feedr\", \"Norm\", \"1Fam\", \"1Story\", 5, 6, 1961, 1961, \"Gable\", \"CompShg\", \"VinylSd\", \"VinylSd\", null, 0.0, \"TA\", \"TA\", \"CBlock\", \"TA\", \"TA\", \"No\", \"Rec\", 468.0, \"LwQ\", 144.0, 270.0, 882.0, \"GasA\", \"TA\", \"Y\", \"SBrkr\", 896, 0, 0, 896, 0.0, 0.0, 1, 0, 2, 1, \"TA\", 5, \"Typ\", 0, null, \"Attchd\", 1961.0, \"Unf\", 1.0, 730.0, \"TA\", \"TA\", \"Y\", 140, 0, 0, 0, 120, 0, null, \"MnPrv\", null, 0, 6, 2010, \"WD\", \"Normal\"], [1462, 20, \"RL\", 81.0, 14267, \"Pave\", null, \"IR1\", \"Lvl\", \"AllPub\", \"Corner\", \"Gtl\", \"NAmes\", \"Norm\", \"Norm\", \"1Fam\", \"1Story\", 6, 6, 1958, 1958, \"Hip\", \"CompShg\", \"Wd Sdng\", \"Wd Sdng\", \"BrkFace\", 108.0, \"TA\", \"TA\", \"CBlock\", \"TA\", \"TA\", \"No\", \"ALQ\", 923.0, \"Unf\", 0.0, 406.0, 1329.0, \"GasA\", \"TA\", \"Y\", \"SBrkr\", 1329, 0, 0, 1329, 0.0, 0.0, 1, 1, 3, 1, \"Gd\", 6, \"Typ\", 0, null, \"Attchd\", 1958.0, \"Unf\", 1.0, 312.0, \"TA\", \"TA\", \"Y\", 393, 36, 0, 0, 0, 0, null, null, \"Gar2\", 12500, 6, 2010, \"WD\", \"Normal\"], [1463, 60, \"RL\", 74.0, 13830, \"Pave\", null, \"IR1\", \"Lvl\", \"AllPub\", \"Inside\", \"Gtl\", \"Gilbert\", \"Norm\", \"Norm\", \"1Fam\", \"2Story\", 5, 5, 1997, 1998, \"Gable\", \"CompShg\", \"VinylSd\", \"VinylSd\", null, 0.0, \"TA\", \"TA\", \"PConc\", \"Gd\", \"TA\", \"No\", \"GLQ\", 791.0, \"Unf\", 0.0, 137.0, 928.0, \"GasA\", \"Gd\", \"Y\", \"SBrkr\", 928, 701, 0, 1629, 0.0, 0.0, 2, 1, 3, 1, \"TA\", 6, \"Typ\", 1, \"TA\", \"Attchd\", 1997.0, \"Fin\", 2.0, 482.0, \"TA\", \"TA\", \"Y\", 212, 34, 0, 0, 0, 0, null, \"MnPrv\", null, 0, 3, 2010, \"WD\", \"Normal\"], [1464, 60, \"RL\", 78.0, 9978, \"Pave\", null, \"IR1\", \"Lvl\", \"AllPub\", \"Inside\", \"Gtl\", \"Gilbert\", \"Norm\", \"Norm\", \"1Fam\", \"2Story\", 6, 6, 1998, 1998, \"Gable\", \"CompShg\", \"VinylSd\", \"VinylSd\", \"BrkFace\", 20.0, \"TA\", \"TA\", \"PConc\", \"TA\", \"TA\", \"No\", \"GLQ\", 602.0, \"Unf\", 0.0, 324.0, 926.0, \"GasA\", \"Ex\", \"Y\", \"SBrkr\", 926, 678, 0, 1604, 0.0, 0.0, 2, 1, 3, 1, \"Gd\", 7, \"Typ\", 1, \"Gd\", \"Attchd\", 1998.0, \"Fin\", 2.0, 470.0, \"TA\", \"TA\", \"Y\", 360, 36, 0, 0, 0, 0, null, null, null, 0, 6, 2010, \"WD\", \"Normal\"], [1465, 120, \"RL\", 43.0, 5005, \"Pave\", null, \"IR1\", \"HLS\", \"AllPub\", \"Inside\", \"Gtl\", \"StoneBr\", \"Norm\", \"Norm\", \"TwnhsE\", \"1Story\", 8, 5, 1992, 1992, \"Gable\", \"CompShg\", \"HdBoard\", \"HdBoard\", null, 0.0, \"Gd\", \"TA\", \"PConc\", \"Gd\", \"TA\", \"No\", \"ALQ\", 263.0, \"Unf\", 0.0, 1017.0, 1280.0, \"GasA\", \"Ex\", \"Y\", \"SBrkr\", 1280, 0, 0, 1280, 0.0, 0.0, 2, 0, 2, 1, \"Gd\", 5, \"Typ\", 0, null, \"Attchd\", 1992.0, \"RFn\", 2.0, 506.0, \"TA\", \"TA\", \"Y\", 0, 82, 0, 0, 144, 0, null, null, null, 0, 1, 2010, \"WD\", \"Normal\"]]}}'"
      ]
     },
     "execution_count": 18,
     "metadata": {},
     "output_type": "execute_result"
    }
   ],
   "source": [
    "json.dumps({\n",
    "    \"dataframe_split\": json.loads(test.head(5).to_json(orient=\"split\"))\n",
    "})"
   ]
  }
 ],
 "metadata": {
  "kernelspec": {
   "display_name": "Python 3 (ipykernel)",
   "language": "python",
   "name": "python3"
  },
  "language_info": {
   "codemirror_mode": {
    "name": "ipython",
    "version": 3
   },
   "file_extension": ".py",
   "mimetype": "text/x-python",
   "name": "python",
   "nbconvert_exporter": "python",
   "pygments_lexer": "ipython3",
   "version": "3.13.1"
  }
 },
 "nbformat": 4,
 "nbformat_minor": 5
}
